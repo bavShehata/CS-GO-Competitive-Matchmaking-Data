{
 "cells": [
  {
   "cell_type": "code",
   "execution_count": 1,
   "id": "fa4114c7",
   "metadata": {},
   "outputs": [],
   "source": [
    "# Import libraries\n",
    "import numpy as np\n",
    "import pandas as pd\n",
    "import matplotlib.pyplot as plt\n",
    "from matplotlib import cm\n",
    "from bs4 import BeautifulSoup\n",
    "import requests\n",
    "import pickle\n",
    "import requests\n",
    "import json\n",
    "from statistics import mean\n",
    "from scipy.stats import spearmanr, kendalltau, pearsonr\n",
    "\n",
    "%matplotlib inline"
   ]
  },
  {
   "cell_type": "code",
   "execution_count": 2,
   "id": "235bec82",
   "metadata": {},
   "outputs": [],
   "source": [
    "# Import data\n",
    "df_map = pd.read_csv(\"map_data.csv\")\n",
    "df_grenades = pd.read_csv(\"mm_grenades_demos.csv\")\n",
    "df_master = pd.read_csv(\"mm_master_demos.csv\")\n",
    "# Disables the SettingWithCopyWarning\n",
    "pd.options.mode.chained_assignment = None  # default='warn'bb"
   ]
  },
  {
   "cell_type": "code",
   "execution_count": 3,
   "id": "7c15a0a8",
   "metadata": {},
   "outputs": [],
   "source": [
    "# settings to display all columns and rows\n",
    "pd.set_option(\"display.max_columns\", None)\n",
    "pd.set_option(\"display.max_rows\", None)"
   ]
  },
  {
   "cell_type": "code",
   "execution_count": 4,
   "id": "d34890ef",
   "metadata": {},
   "outputs": [
    {
     "data": {
      "text/html": [
       "<div>\n",
       "<style scoped>\n",
       "    .dataframe tbody tr th:only-of-type {\n",
       "        vertical-align: middle;\n",
       "    }\n",
       "\n",
       "    .dataframe tbody tr th {\n",
       "        vertical-align: top;\n",
       "    }\n",
       "\n",
       "    .dataframe thead th {\n",
       "        text-align: right;\n",
       "    }\n",
       "</style>\n",
       "<table border=\"1\" class=\"dataframe\">\n",
       "  <thead>\n",
       "    <tr style=\"text-align: right;\">\n",
       "      <th></th>\n",
       "      <th>Unnamed: 0</th>\n",
       "      <th>file</th>\n",
       "      <th>map</th>\n",
       "      <th>round</th>\n",
       "      <th>start_seconds</th>\n",
       "      <th>seconds</th>\n",
       "      <th>end_seconds</th>\n",
       "      <th>att_team</th>\n",
       "      <th>vic_team</th>\n",
       "      <th>att_id</th>\n",
       "      <th>vic_id</th>\n",
       "      <th>att_side</th>\n",
       "      <th>vic_side</th>\n",
       "      <th>hp_dmg</th>\n",
       "      <th>arm_dmg</th>\n",
       "      <th>is_bomb_planted</th>\n",
       "      <th>bomb_site</th>\n",
       "      <th>hitbox</th>\n",
       "      <th>nade</th>\n",
       "      <th>winner_team</th>\n",
       "      <th>winner_side</th>\n",
       "      <th>att_rank</th>\n",
       "      <th>vic_rank</th>\n",
       "      <th>att_pos_x</th>\n",
       "      <th>att_pos_y</th>\n",
       "      <th>nade_land_x</th>\n",
       "      <th>nade_land_y</th>\n",
       "      <th>vic_pos_x</th>\n",
       "      <th>vic_pos_y</th>\n",
       "      <th>round_type</th>\n",
       "      <th>ct_eq_val</th>\n",
       "      <th>t_eq_val</th>\n",
       "      <th>avg_match_rank</th>\n",
       "    </tr>\n",
       "  </thead>\n",
       "  <tbody>\n",
       "    <tr>\n",
       "      <th>0</th>\n",
       "      <td>0</td>\n",
       "      <td>003201673717864202280_0171883906.dem</td>\n",
       "      <td>de_dust2</td>\n",
       "      <td>1</td>\n",
       "      <td>109.5534</td>\n",
       "      <td>125.1816</td>\n",
       "      <td>197.6025</td>\n",
       "      <td>Team 2</td>\n",
       "      <td>NaN</td>\n",
       "      <td>76561198244806730</td>\n",
       "      <td>NaN</td>\n",
       "      <td>Terrorist</td>\n",
       "      <td>NaN</td>\n",
       "      <td>0</td>\n",
       "      <td>0</td>\n",
       "      <td>False</td>\n",
       "      <td>NaN</td>\n",
       "      <td>NaN</td>\n",
       "      <td>Decoy</td>\n",
       "      <td>Team 1</td>\n",
       "      <td>CounterTerrorist</td>\n",
       "      <td>13</td>\n",
       "      <td>NaN</td>\n",
       "      <td>-918.1018</td>\n",
       "      <td>-856.1255</td>\n",
       "      <td>257.32770</td>\n",
       "      <td>-435.8516</td>\n",
       "      <td>NaN</td>\n",
       "      <td>NaN</td>\n",
       "      <td>PISTOL_ROUND</td>\n",
       "      <td>2950</td>\n",
       "      <td>3850</td>\n",
       "      <td>16.0</td>\n",
       "    </tr>\n",
       "    <tr>\n",
       "      <th>1</th>\n",
       "      <td>1</td>\n",
       "      <td>003201673717864202280_0171883906.dem</td>\n",
       "      <td>de_dust2</td>\n",
       "      <td>1</td>\n",
       "      <td>109.5534</td>\n",
       "      <td>139.1844</td>\n",
       "      <td>197.6025</td>\n",
       "      <td>Team 2</td>\n",
       "      <td>NaN</td>\n",
       "      <td>76561198051040004</td>\n",
       "      <td>NaN</td>\n",
       "      <td>Terrorist</td>\n",
       "      <td>NaN</td>\n",
       "      <td>0</td>\n",
       "      <td>0</td>\n",
       "      <td>False</td>\n",
       "      <td>NaN</td>\n",
       "      <td>NaN</td>\n",
       "      <td>Decoy</td>\n",
       "      <td>Team 1</td>\n",
       "      <td>CounterTerrorist</td>\n",
       "      <td>17</td>\n",
       "      <td>NaN</td>\n",
       "      <td>-1310.6070</td>\n",
       "      <td>1145.8650</td>\n",
       "      <td>-1124.67500</td>\n",
       "      <td>1216.9330</td>\n",
       "      <td>NaN</td>\n",
       "      <td>NaN</td>\n",
       "      <td>PISTOL_ROUND</td>\n",
       "      <td>2950</td>\n",
       "      <td>3850</td>\n",
       "      <td>16.0</td>\n",
       "    </tr>\n",
       "    <tr>\n",
       "      <th>2</th>\n",
       "      <td>2</td>\n",
       "      <td>003201673717864202280_0171883906.dem</td>\n",
       "      <td>de_dust2</td>\n",
       "      <td>1</td>\n",
       "      <td>109.5534</td>\n",
       "      <td>166.0649</td>\n",
       "      <td>197.6025</td>\n",
       "      <td>Team 2</td>\n",
       "      <td>Team 2</td>\n",
       "      <td>76561198147933469</td>\n",
       "      <td>7.656120e+16</td>\n",
       "      <td>Terrorist</td>\n",
       "      <td>Terrorist</td>\n",
       "      <td>36</td>\n",
       "      <td>0</td>\n",
       "      <td>False</td>\n",
       "      <td>NaN</td>\n",
       "      <td>Generic</td>\n",
       "      <td>HE</td>\n",
       "      <td>Team 1</td>\n",
       "      <td>CounterTerrorist</td>\n",
       "      <td>18</td>\n",
       "      <td>18.0</td>\n",
       "      <td>-180.6393</td>\n",
       "      <td>327.6691</td>\n",
       "      <td>-89.53781</td>\n",
       "      <td>318.2151</td>\n",
       "      <td>-130.1585</td>\n",
       "      <td>304.0313</td>\n",
       "      <td>PISTOL_ROUND</td>\n",
       "      <td>2950</td>\n",
       "      <td>3850</td>\n",
       "      <td>16.0</td>\n",
       "    </tr>\n",
       "    <tr>\n",
       "      <th>3</th>\n",
       "      <td>3</td>\n",
       "      <td>003201673717864202280_0171883906.dem</td>\n",
       "      <td>de_dust2</td>\n",
       "      <td>2</td>\n",
       "      <td>197.6025</td>\n",
       "      <td>213.0431</td>\n",
       "      <td>281.2757</td>\n",
       "      <td>Team 1</td>\n",
       "      <td>NaN</td>\n",
       "      <td>76561198051106390</td>\n",
       "      <td>NaN</td>\n",
       "      <td>CounterTerrorist</td>\n",
       "      <td>NaN</td>\n",
       "      <td>0</td>\n",
       "      <td>0</td>\n",
       "      <td>False</td>\n",
       "      <td>NaN</td>\n",
       "      <td>NaN</td>\n",
       "      <td>Smoke</td>\n",
       "      <td>Team 2</td>\n",
       "      <td>Terrorist</td>\n",
       "      <td>16</td>\n",
       "      <td>NaN</td>\n",
       "      <td>151.3117</td>\n",
       "      <td>2304.8010</td>\n",
       "      <td>-431.48370</td>\n",
       "      <td>2126.3900</td>\n",
       "      <td>NaN</td>\n",
       "      <td>NaN</td>\n",
       "      <td>ECO</td>\n",
       "      <td>12400</td>\n",
       "      <td>4700</td>\n",
       "      <td>16.0</td>\n",
       "    </tr>\n",
       "    <tr>\n",
       "      <th>4</th>\n",
       "      <td>4</td>\n",
       "      <td>003201673717864202280_0171883906.dem</td>\n",
       "      <td>de_dust2</td>\n",
       "      <td>2</td>\n",
       "      <td>197.6025</td>\n",
       "      <td>220.8572</td>\n",
       "      <td>281.2757</td>\n",
       "      <td>Team 1</td>\n",
       "      <td>NaN</td>\n",
       "      <td>76561198051106390</td>\n",
       "      <td>NaN</td>\n",
       "      <td>CounterTerrorist</td>\n",
       "      <td>NaN</td>\n",
       "      <td>0</td>\n",
       "      <td>0</td>\n",
       "      <td>False</td>\n",
       "      <td>NaN</td>\n",
       "      <td>NaN</td>\n",
       "      <td>HE</td>\n",
       "      <td>Team 2</td>\n",
       "      <td>Terrorist</td>\n",
       "      <td>16</td>\n",
       "      <td>NaN</td>\n",
       "      <td>-1669.9540</td>\n",
       "      <td>2197.1340</td>\n",
       "      <td>-1955.98500</td>\n",
       "      <td>1384.2130</td>\n",
       "      <td>NaN</td>\n",
       "      <td>NaN</td>\n",
       "      <td>ECO</td>\n",
       "      <td>12400</td>\n",
       "      <td>4700</td>\n",
       "      <td>16.0</td>\n",
       "    </tr>\n",
       "  </tbody>\n",
       "</table>\n",
       "</div>"
      ],
      "text/plain": [
       "   Unnamed: 0                                  file       map  round  \\\n",
       "0           0  003201673717864202280_0171883906.dem  de_dust2      1   \n",
       "1           1  003201673717864202280_0171883906.dem  de_dust2      1   \n",
       "2           2  003201673717864202280_0171883906.dem  de_dust2      1   \n",
       "3           3  003201673717864202280_0171883906.dem  de_dust2      2   \n",
       "4           4  003201673717864202280_0171883906.dem  de_dust2      2   \n",
       "\n",
       "   start_seconds   seconds  end_seconds att_team vic_team             att_id  \\\n",
       "0       109.5534  125.1816     197.6025   Team 2      NaN  76561198244806730   \n",
       "1       109.5534  139.1844     197.6025   Team 2      NaN  76561198051040004   \n",
       "2       109.5534  166.0649     197.6025   Team 2   Team 2  76561198147933469   \n",
       "3       197.6025  213.0431     281.2757   Team 1      NaN  76561198051106390   \n",
       "4       197.6025  220.8572     281.2757   Team 1      NaN  76561198051106390   \n",
       "\n",
       "         vic_id          att_side   vic_side  hp_dmg  arm_dmg  \\\n",
       "0           NaN         Terrorist        NaN       0        0   \n",
       "1           NaN         Terrorist        NaN       0        0   \n",
       "2  7.656120e+16         Terrorist  Terrorist      36        0   \n",
       "3           NaN  CounterTerrorist        NaN       0        0   \n",
       "4           NaN  CounterTerrorist        NaN       0        0   \n",
       "\n",
       "   is_bomb_planted bomb_site   hitbox   nade winner_team       winner_side  \\\n",
       "0            False       NaN      NaN  Decoy      Team 1  CounterTerrorist   \n",
       "1            False       NaN      NaN  Decoy      Team 1  CounterTerrorist   \n",
       "2            False       NaN  Generic     HE      Team 1  CounterTerrorist   \n",
       "3            False       NaN      NaN  Smoke      Team 2         Terrorist   \n",
       "4            False       NaN      NaN     HE      Team 2         Terrorist   \n",
       "\n",
       "   att_rank  vic_rank  att_pos_x  att_pos_y  nade_land_x  nade_land_y  \\\n",
       "0        13       NaN  -918.1018  -856.1255    257.32770    -435.8516   \n",
       "1        17       NaN -1310.6070  1145.8650  -1124.67500    1216.9330   \n",
       "2        18      18.0  -180.6393   327.6691    -89.53781     318.2151   \n",
       "3        16       NaN   151.3117  2304.8010   -431.48370    2126.3900   \n",
       "4        16       NaN -1669.9540  2197.1340  -1955.98500    1384.2130   \n",
       "\n",
       "   vic_pos_x  vic_pos_y    round_type  ct_eq_val  t_eq_val  avg_match_rank  \n",
       "0        NaN        NaN  PISTOL_ROUND       2950      3850            16.0  \n",
       "1        NaN        NaN  PISTOL_ROUND       2950      3850            16.0  \n",
       "2  -130.1585   304.0313  PISTOL_ROUND       2950      3850            16.0  \n",
       "3        NaN        NaN           ECO      12400      4700            16.0  \n",
       "4        NaN        NaN           ECO      12400      4700            16.0  "
      ]
     },
     "execution_count": 4,
     "metadata": {},
     "output_type": "execute_result"
    }
   ],
   "source": [
    "df_grenades.head()"
   ]
  },
  {
   "cell_type": "markdown",
   "id": "8603782c",
   "metadata": {},
   "source": [
    "### Columns to be dropped <br>\n",
    "\n",
    "<li>\"Unnamed: 0\": duplicated index</li>\n",
    "<li>\"att_team\", \"vic_team\", \"att_side\", \"vic_side\", \"is_bomb_planted\", \"bomb_site\", \"hitbox\", \"nade\", \"winner_team\", \"nade_land_x\",\"nade_land_y\", \"round_type\", \"start_seconds\", \"seconds\", \"end_seconds\", \"t_eq_val\", \"ct_eq_val\", \"avg_match_rank\",\"att_pos_x\",\"att_pos_y\",\"att_rank\",\"vic_rank\": All of these won't be needed to answer our questions</li>"
   ]
  },
  {
   "cell_type": "code",
   "execution_count": 5,
   "id": "608a195c",
   "metadata": {},
   "outputs": [],
   "source": [
    "# Drop unused columns - vicrank and attrank???\n",
    "df_grenades.drop(columns=[\"Unnamed: 0\", \"att_team\", \"vic_team\", \"att_side\", \"vic_side\",\"t_eq_val\",\"ct_eq_val\",\"avg_match_rank\", \"start_seconds\",\"seconds\",\"end_seconds\",\"is_bomb_planted\", \"bomb_site\", \"hitbox\", \"nade\", \"winner_team\", \"nade_land_x\",\"nade_land_y\", \"round_type\",\"att_pos_x\",\"att_pos_y\",\"att_rank\",\"vic_rank\",\"winner_side\"], inplace=True)"
   ]
  },
  {
   "cell_type": "code",
   "execution_count": 6,
   "id": "a450a6a5",
   "metadata": {},
   "outputs": [
    {
     "data": {
      "text/html": [
       "<div>\n",
       "<style scoped>\n",
       "    .dataframe tbody tr th:only-of-type {\n",
       "        vertical-align: middle;\n",
       "    }\n",
       "\n",
       "    .dataframe tbody tr th {\n",
       "        vertical-align: top;\n",
       "    }\n",
       "\n",
       "    .dataframe thead th {\n",
       "        text-align: right;\n",
       "    }\n",
       "</style>\n",
       "<table border=\"1\" class=\"dataframe\">\n",
       "  <thead>\n",
       "    <tr style=\"text-align: right;\">\n",
       "      <th></th>\n",
       "      <th>file</th>\n",
       "      <th>map</th>\n",
       "      <th>round</th>\n",
       "      <th>att_id</th>\n",
       "      <th>vic_id</th>\n",
       "      <th>hp_dmg</th>\n",
       "      <th>arm_dmg</th>\n",
       "      <th>vic_pos_x</th>\n",
       "      <th>vic_pos_y</th>\n",
       "    </tr>\n",
       "  </thead>\n",
       "  <tbody>\n",
       "    <tr>\n",
       "      <th>0</th>\n",
       "      <td>003201673717864202280_0171883906.dem</td>\n",
       "      <td>de_dust2</td>\n",
       "      <td>1</td>\n",
       "      <td>76561198244806730</td>\n",
       "      <td>NaN</td>\n",
       "      <td>0</td>\n",
       "      <td>0</td>\n",
       "      <td>NaN</td>\n",
       "      <td>NaN</td>\n",
       "    </tr>\n",
       "    <tr>\n",
       "      <th>1</th>\n",
       "      <td>003201673717864202280_0171883906.dem</td>\n",
       "      <td>de_dust2</td>\n",
       "      <td>1</td>\n",
       "      <td>76561198051040004</td>\n",
       "      <td>NaN</td>\n",
       "      <td>0</td>\n",
       "      <td>0</td>\n",
       "      <td>NaN</td>\n",
       "      <td>NaN</td>\n",
       "    </tr>\n",
       "    <tr>\n",
       "      <th>2</th>\n",
       "      <td>003201673717864202280_0171883906.dem</td>\n",
       "      <td>de_dust2</td>\n",
       "      <td>1</td>\n",
       "      <td>76561198147933469</td>\n",
       "      <td>7.656120e+16</td>\n",
       "      <td>36</td>\n",
       "      <td>0</td>\n",
       "      <td>-130.1585</td>\n",
       "      <td>304.0313</td>\n",
       "    </tr>\n",
       "    <tr>\n",
       "      <th>3</th>\n",
       "      <td>003201673717864202280_0171883906.dem</td>\n",
       "      <td>de_dust2</td>\n",
       "      <td>2</td>\n",
       "      <td>76561198051106390</td>\n",
       "      <td>NaN</td>\n",
       "      <td>0</td>\n",
       "      <td>0</td>\n",
       "      <td>NaN</td>\n",
       "      <td>NaN</td>\n",
       "    </tr>\n",
       "    <tr>\n",
       "      <th>4</th>\n",
       "      <td>003201673717864202280_0171883906.dem</td>\n",
       "      <td>de_dust2</td>\n",
       "      <td>2</td>\n",
       "      <td>76561198051106390</td>\n",
       "      <td>NaN</td>\n",
       "      <td>0</td>\n",
       "      <td>0</td>\n",
       "      <td>NaN</td>\n",
       "      <td>NaN</td>\n",
       "    </tr>\n",
       "  </tbody>\n",
       "</table>\n",
       "</div>"
      ],
      "text/plain": [
       "                                   file       map  round             att_id  \\\n",
       "0  003201673717864202280_0171883906.dem  de_dust2      1  76561198244806730   \n",
       "1  003201673717864202280_0171883906.dem  de_dust2      1  76561198051040004   \n",
       "2  003201673717864202280_0171883906.dem  de_dust2      1  76561198147933469   \n",
       "3  003201673717864202280_0171883906.dem  de_dust2      2  76561198051106390   \n",
       "4  003201673717864202280_0171883906.dem  de_dust2      2  76561198051106390   \n",
       "\n",
       "         vic_id  hp_dmg  arm_dmg  vic_pos_x  vic_pos_y  \n",
       "0           NaN       0        0        NaN        NaN  \n",
       "1           NaN       0        0        NaN        NaN  \n",
       "2  7.656120e+16      36        0  -130.1585   304.0313  \n",
       "3           NaN       0        0        NaN        NaN  \n",
       "4           NaN       0        0        NaN        NaN  "
      ]
     },
     "execution_count": 6,
     "metadata": {},
     "output_type": "execute_result"
    }
   ],
   "source": [
    "df_grenades.head()"
   ]
  },
  {
   "cell_type": "code",
   "execution_count": 7,
   "id": "028f29a7",
   "metadata": {},
   "outputs": [
    {
     "data": {
      "text/plain": [
       "file              0\n",
       "map               0\n",
       "round             0\n",
       "att_id            0\n",
       "vic_id       306858\n",
       "hp_dmg            0\n",
       "arm_dmg           0\n",
       "vic_pos_x    306858\n",
       "vic_pos_y    306858\n",
       "dtype: int64"
      ]
     },
     "execution_count": 7,
     "metadata": {},
     "output_type": "execute_result"
    }
   ],
   "source": [
    "# Check for null values\n",
    "df_grenades.isna().sum()"
   ]
  },
  {
   "cell_type": "code",
   "execution_count": 8,
   "id": "685a7a64",
   "metadata": {},
   "outputs": [
    {
     "data": {
      "text/html": [
       "<div>\n",
       "<style scoped>\n",
       "    .dataframe tbody tr th:only-of-type {\n",
       "        vertical-align: middle;\n",
       "    }\n",
       "\n",
       "    .dataframe tbody tr th {\n",
       "        vertical-align: top;\n",
       "    }\n",
       "\n",
       "    .dataframe thead th {\n",
       "        text-align: right;\n",
       "    }\n",
       "</style>\n",
       "<table border=\"1\" class=\"dataframe\">\n",
       "  <thead>\n",
       "    <tr style=\"text-align: right;\">\n",
       "      <th></th>\n",
       "      <th>Unnamed: 0</th>\n",
       "      <th>file</th>\n",
       "      <th>map</th>\n",
       "      <th>date</th>\n",
       "      <th>round</th>\n",
       "      <th>tick</th>\n",
       "      <th>seconds</th>\n",
       "      <th>att_team</th>\n",
       "      <th>vic_team</th>\n",
       "      <th>att_side</th>\n",
       "      <th>vic_side</th>\n",
       "      <th>hp_dmg</th>\n",
       "      <th>arm_dmg</th>\n",
       "      <th>is_bomb_planted</th>\n",
       "      <th>bomb_site</th>\n",
       "      <th>hitbox</th>\n",
       "      <th>wp</th>\n",
       "      <th>wp_type</th>\n",
       "      <th>award</th>\n",
       "      <th>winner_team</th>\n",
       "      <th>winner_side</th>\n",
       "      <th>att_id</th>\n",
       "      <th>att_rank</th>\n",
       "      <th>vic_id</th>\n",
       "      <th>vic_rank</th>\n",
       "      <th>att_pos_x</th>\n",
       "      <th>att_pos_y</th>\n",
       "      <th>vic_pos_x</th>\n",
       "      <th>vic_pos_y</th>\n",
       "      <th>round_type</th>\n",
       "      <th>ct_eq_val</th>\n",
       "      <th>t_eq_val</th>\n",
       "      <th>avg_match_rank</th>\n",
       "    </tr>\n",
       "  </thead>\n",
       "  <tbody>\n",
       "    <tr>\n",
       "      <th>0</th>\n",
       "      <td>0</td>\n",
       "      <td>003201673717864202280_0171883906.dem</td>\n",
       "      <td>de_dust2</td>\n",
       "      <td>09/28/2017 8:44:22 PM</td>\n",
       "      <td>1</td>\n",
       "      <td>8482</td>\n",
       "      <td>133.0582</td>\n",
       "      <td>Team 1</td>\n",
       "      <td>Team 2</td>\n",
       "      <td>CounterTerrorist</td>\n",
       "      <td>Terrorist</td>\n",
       "      <td>100</td>\n",
       "      <td>0</td>\n",
       "      <td>False</td>\n",
       "      <td>NaN</td>\n",
       "      <td>Head</td>\n",
       "      <td>USP</td>\n",
       "      <td>Pistol</td>\n",
       "      <td>300</td>\n",
       "      <td>Team 1</td>\n",
       "      <td>CounterTerrorist</td>\n",
       "      <td>76561198085893650</td>\n",
       "      <td>17</td>\n",
       "      <td>76561198123082770</td>\n",
       "      <td>17</td>\n",
       "      <td>1473.847</td>\n",
       "      <td>1351.358</td>\n",
       "      <td>662.170</td>\n",
       "      <td>772.748</td>\n",
       "      <td>PISTOL_ROUND</td>\n",
       "      <td>2950</td>\n",
       "      <td>3850</td>\n",
       "      <td>16.0</td>\n",
       "    </tr>\n",
       "    <tr>\n",
       "      <th>1</th>\n",
       "      <td>1</td>\n",
       "      <td>003201673717864202280_0171883906.dem</td>\n",
       "      <td>de_dust2</td>\n",
       "      <td>09/28/2017 8:44:22 PM</td>\n",
       "      <td>1</td>\n",
       "      <td>8600</td>\n",
       "      <td>134.9023</td>\n",
       "      <td>Team 1</td>\n",
       "      <td>Team 2</td>\n",
       "      <td>CounterTerrorist</td>\n",
       "      <td>Terrorist</td>\n",
       "      <td>25</td>\n",
       "      <td>0</td>\n",
       "      <td>False</td>\n",
       "      <td>NaN</td>\n",
       "      <td>RightLeg</td>\n",
       "      <td>USP</td>\n",
       "      <td>Pistol</td>\n",
       "      <td>300</td>\n",
       "      <td>Team 1</td>\n",
       "      <td>CounterTerrorist</td>\n",
       "      <td>76561198223006752</td>\n",
       "      <td>16</td>\n",
       "      <td>76561198051040004</td>\n",
       "      <td>17</td>\n",
       "      <td>-1211.723</td>\n",
       "      <td>1060.813</td>\n",
       "      <td>-1184.006</td>\n",
       "      <td>1153.343</td>\n",
       "      <td>PISTOL_ROUND</td>\n",
       "      <td>2950</td>\n",
       "      <td>3850</td>\n",
       "      <td>16.0</td>\n",
       "    </tr>\n",
       "    <tr>\n",
       "      <th>2</th>\n",
       "      <td>2</td>\n",
       "      <td>003201673717864202280_0171883906.dem</td>\n",
       "      <td>de_dust2</td>\n",
       "      <td>09/28/2017 8:44:22 PM</td>\n",
       "      <td>1</td>\n",
       "      <td>8610</td>\n",
       "      <td>135.0586</td>\n",
       "      <td>Team 2</td>\n",
       "      <td>Team 1</td>\n",
       "      <td>Terrorist</td>\n",
       "      <td>CounterTerrorist</td>\n",
       "      <td>20</td>\n",
       "      <td>0</td>\n",
       "      <td>False</td>\n",
       "      <td>NaN</td>\n",
       "      <td>LeftLeg</td>\n",
       "      <td>Glock</td>\n",
       "      <td>Pistol</td>\n",
       "      <td>300</td>\n",
       "      <td>Team 1</td>\n",
       "      <td>CounterTerrorist</td>\n",
       "      <td>76561198051040004</td>\n",
       "      <td>17</td>\n",
       "      <td>76561198223006752</td>\n",
       "      <td>16</td>\n",
       "      <td>-1153.584</td>\n",
       "      <td>1163.131</td>\n",
       "      <td>-1198.015</td>\n",
       "      <td>1050.423</td>\n",
       "      <td>PISTOL_ROUND</td>\n",
       "      <td>2950</td>\n",
       "      <td>3850</td>\n",
       "      <td>16.0</td>\n",
       "    </tr>\n",
       "    <tr>\n",
       "      <th>3</th>\n",
       "      <td>3</td>\n",
       "      <td>003201673717864202280_0171883906.dem</td>\n",
       "      <td>de_dust2</td>\n",
       "      <td>09/28/2017 8:44:22 PM</td>\n",
       "      <td>1</td>\n",
       "      <td>8624</td>\n",
       "      <td>135.2774</td>\n",
       "      <td>Team 1</td>\n",
       "      <td>Team 2</td>\n",
       "      <td>CounterTerrorist</td>\n",
       "      <td>Terrorist</td>\n",
       "      <td>17</td>\n",
       "      <td>8</td>\n",
       "      <td>False</td>\n",
       "      <td>NaN</td>\n",
       "      <td>Chest</td>\n",
       "      <td>USP</td>\n",
       "      <td>Pistol</td>\n",
       "      <td>300</td>\n",
       "      <td>Team 1</td>\n",
       "      <td>CounterTerrorist</td>\n",
       "      <td>76561198223006752</td>\n",
       "      <td>16</td>\n",
       "      <td>76561198051040004</td>\n",
       "      <td>17</td>\n",
       "      <td>-1173.053</td>\n",
       "      <td>1044.365</td>\n",
       "      <td>-1141.785</td>\n",
       "      <td>1190.089</td>\n",
       "      <td>PISTOL_ROUND</td>\n",
       "      <td>2950</td>\n",
       "      <td>3850</td>\n",
       "      <td>16.0</td>\n",
       "    </tr>\n",
       "    <tr>\n",
       "      <th>4</th>\n",
       "      <td>4</td>\n",
       "      <td>003201673717864202280_0171883906.dem</td>\n",
       "      <td>de_dust2</td>\n",
       "      <td>09/28/2017 8:44:22 PM</td>\n",
       "      <td>1</td>\n",
       "      <td>8632</td>\n",
       "      <td>135.4024</td>\n",
       "      <td>Team 2</td>\n",
       "      <td>Team 1</td>\n",
       "      <td>Terrorist</td>\n",
       "      <td>CounterTerrorist</td>\n",
       "      <td>12</td>\n",
       "      <td>7</td>\n",
       "      <td>False</td>\n",
       "      <td>NaN</td>\n",
       "      <td>Chest</td>\n",
       "      <td>Glock</td>\n",
       "      <td>Pistol</td>\n",
       "      <td>300</td>\n",
       "      <td>Team 1</td>\n",
       "      <td>CounterTerrorist</td>\n",
       "      <td>76561198051040004</td>\n",
       "      <td>17</td>\n",
       "      <td>76561198223006752</td>\n",
       "      <td>16</td>\n",
       "      <td>-1142.522</td>\n",
       "      <td>1200.967</td>\n",
       "      <td>-1157.690</td>\n",
       "      <td>1050.702</td>\n",
       "      <td>PISTOL_ROUND</td>\n",
       "      <td>2950</td>\n",
       "      <td>3850</td>\n",
       "      <td>16.0</td>\n",
       "    </tr>\n",
       "  </tbody>\n",
       "</table>\n",
       "</div>"
      ],
      "text/plain": [
       "   Unnamed: 0                                  file       map  \\\n",
       "0           0  003201673717864202280_0171883906.dem  de_dust2   \n",
       "1           1  003201673717864202280_0171883906.dem  de_dust2   \n",
       "2           2  003201673717864202280_0171883906.dem  de_dust2   \n",
       "3           3  003201673717864202280_0171883906.dem  de_dust2   \n",
       "4           4  003201673717864202280_0171883906.dem  de_dust2   \n",
       "\n",
       "                    date  round  tick   seconds att_team vic_team  \\\n",
       "0  09/28/2017 8:44:22 PM      1  8482  133.0582   Team 1   Team 2   \n",
       "1  09/28/2017 8:44:22 PM      1  8600  134.9023   Team 1   Team 2   \n",
       "2  09/28/2017 8:44:22 PM      1  8610  135.0586   Team 2   Team 1   \n",
       "3  09/28/2017 8:44:22 PM      1  8624  135.2774   Team 1   Team 2   \n",
       "4  09/28/2017 8:44:22 PM      1  8632  135.4024   Team 2   Team 1   \n",
       "\n",
       "           att_side          vic_side  hp_dmg  arm_dmg  is_bomb_planted  \\\n",
       "0  CounterTerrorist         Terrorist     100        0            False   \n",
       "1  CounterTerrorist         Terrorist      25        0            False   \n",
       "2         Terrorist  CounterTerrorist      20        0            False   \n",
       "3  CounterTerrorist         Terrorist      17        8            False   \n",
       "4         Terrorist  CounterTerrorist      12        7            False   \n",
       "\n",
       "  bomb_site    hitbox     wp wp_type  award winner_team       winner_side  \\\n",
       "0       NaN      Head    USP  Pistol    300      Team 1  CounterTerrorist   \n",
       "1       NaN  RightLeg    USP  Pistol    300      Team 1  CounterTerrorist   \n",
       "2       NaN   LeftLeg  Glock  Pistol    300      Team 1  CounterTerrorist   \n",
       "3       NaN     Chest    USP  Pistol    300      Team 1  CounterTerrorist   \n",
       "4       NaN     Chest  Glock  Pistol    300      Team 1  CounterTerrorist   \n",
       "\n",
       "              att_id  att_rank             vic_id  vic_rank  att_pos_x  \\\n",
       "0  76561198085893650        17  76561198123082770        17   1473.847   \n",
       "1  76561198223006752        16  76561198051040004        17  -1211.723   \n",
       "2  76561198051040004        17  76561198223006752        16  -1153.584   \n",
       "3  76561198223006752        16  76561198051040004        17  -1173.053   \n",
       "4  76561198051040004        17  76561198223006752        16  -1142.522   \n",
       "\n",
       "   att_pos_y  vic_pos_x  vic_pos_y    round_type  ct_eq_val  t_eq_val  \\\n",
       "0   1351.358    662.170    772.748  PISTOL_ROUND       2950      3850   \n",
       "1   1060.813  -1184.006   1153.343  PISTOL_ROUND       2950      3850   \n",
       "2   1163.131  -1198.015   1050.423  PISTOL_ROUND       2950      3850   \n",
       "3   1044.365  -1141.785   1190.089  PISTOL_ROUND       2950      3850   \n",
       "4   1200.967  -1157.690   1050.702  PISTOL_ROUND       2950      3850   \n",
       "\n",
       "   avg_match_rank  \n",
       "0            16.0  \n",
       "1            16.0  \n",
       "2            16.0  \n",
       "3            16.0  \n",
       "4            16.0  "
      ]
     },
     "execution_count": 8,
     "metadata": {},
     "output_type": "execute_result"
    }
   ],
   "source": [
    "df_master.head()"
   ]
  },
  {
   "cell_type": "markdown",
   "id": "f22b8c11",
   "metadata": {},
   "source": [
    "### Columns to be dropped <br>\n",
    "\n",
    "<li>\"Unnamed: 0\": duplicated index</li>\n",
    "<li>\"date\", \"tick\", \"att_team\", \"vic_team\", \"att_side\", \"vic_side\", \"is_bomb_planted\", \"bomb_site\", \"hitbox\", \"award\", \"winner_team\", \"round_type\": All of these won't be needed to answer our questions</li>"
   ]
  },
  {
   "cell_type": "code",
   "execution_count": 9,
   "id": "f91b4fb2",
   "metadata": {},
   "outputs": [],
   "source": [
    "# Drop unused columns\n",
    "df_master.drop(columns=[\"Unnamed: 0\", \"date\", \"tick\", \"att_team\", \"vic_team\", \"att_side\", \"vic_side\", \"is_bomb_planted\", \"bomb_site\", \"hitbox\", \"award\", \"winner_team\", \"round_type\",\"t_eq_val\",\"ct_eq_val\",\"avg_match_rank\"\n",
    ",\"seconds\",\"att_pos_x\",\"att_pos_y\",\"att_rank\",\"vic_rank\",\"wp_type\",\"winner_side\"], inplace=True)"
   ]
  },
  {
   "cell_type": "code",
   "execution_count": 10,
   "id": "3ec5116c",
   "metadata": {},
   "outputs": [
    {
     "data": {
      "text/html": [
       "<div>\n",
       "<style scoped>\n",
       "    .dataframe tbody tr th:only-of-type {\n",
       "        vertical-align: middle;\n",
       "    }\n",
       "\n",
       "    .dataframe tbody tr th {\n",
       "        vertical-align: top;\n",
       "    }\n",
       "\n",
       "    .dataframe thead th {\n",
       "        text-align: right;\n",
       "    }\n",
       "</style>\n",
       "<table border=\"1\" class=\"dataframe\">\n",
       "  <thead>\n",
       "    <tr style=\"text-align: right;\">\n",
       "      <th></th>\n",
       "      <th>file</th>\n",
       "      <th>map</th>\n",
       "      <th>round</th>\n",
       "      <th>hp_dmg</th>\n",
       "      <th>arm_dmg</th>\n",
       "      <th>wp</th>\n",
       "      <th>att_id</th>\n",
       "      <th>vic_id</th>\n",
       "      <th>vic_pos_x</th>\n",
       "      <th>vic_pos_y</th>\n",
       "    </tr>\n",
       "  </thead>\n",
       "  <tbody>\n",
       "    <tr>\n",
       "      <th>0</th>\n",
       "      <td>003201673717864202280_0171883906.dem</td>\n",
       "      <td>de_dust2</td>\n",
       "      <td>1</td>\n",
       "      <td>100</td>\n",
       "      <td>0</td>\n",
       "      <td>USP</td>\n",
       "      <td>76561198085893650</td>\n",
       "      <td>76561198123082770</td>\n",
       "      <td>662.170</td>\n",
       "      <td>772.748</td>\n",
       "    </tr>\n",
       "    <tr>\n",
       "      <th>1</th>\n",
       "      <td>003201673717864202280_0171883906.dem</td>\n",
       "      <td>de_dust2</td>\n",
       "      <td>1</td>\n",
       "      <td>25</td>\n",
       "      <td>0</td>\n",
       "      <td>USP</td>\n",
       "      <td>76561198223006752</td>\n",
       "      <td>76561198051040004</td>\n",
       "      <td>-1184.006</td>\n",
       "      <td>1153.343</td>\n",
       "    </tr>\n",
       "    <tr>\n",
       "      <th>2</th>\n",
       "      <td>003201673717864202280_0171883906.dem</td>\n",
       "      <td>de_dust2</td>\n",
       "      <td>1</td>\n",
       "      <td>20</td>\n",
       "      <td>0</td>\n",
       "      <td>Glock</td>\n",
       "      <td>76561198051040004</td>\n",
       "      <td>76561198223006752</td>\n",
       "      <td>-1198.015</td>\n",
       "      <td>1050.423</td>\n",
       "    </tr>\n",
       "    <tr>\n",
       "      <th>3</th>\n",
       "      <td>003201673717864202280_0171883906.dem</td>\n",
       "      <td>de_dust2</td>\n",
       "      <td>1</td>\n",
       "      <td>17</td>\n",
       "      <td>8</td>\n",
       "      <td>USP</td>\n",
       "      <td>76561198223006752</td>\n",
       "      <td>76561198051040004</td>\n",
       "      <td>-1141.785</td>\n",
       "      <td>1190.089</td>\n",
       "    </tr>\n",
       "    <tr>\n",
       "      <th>4</th>\n",
       "      <td>003201673717864202280_0171883906.dem</td>\n",
       "      <td>de_dust2</td>\n",
       "      <td>1</td>\n",
       "      <td>12</td>\n",
       "      <td>7</td>\n",
       "      <td>Glock</td>\n",
       "      <td>76561198051040004</td>\n",
       "      <td>76561198223006752</td>\n",
       "      <td>-1157.690</td>\n",
       "      <td>1050.702</td>\n",
       "    </tr>\n",
       "  </tbody>\n",
       "</table>\n",
       "</div>"
      ],
      "text/plain": [
       "                                   file       map  round  hp_dmg  arm_dmg  \\\n",
       "0  003201673717864202280_0171883906.dem  de_dust2      1     100        0   \n",
       "1  003201673717864202280_0171883906.dem  de_dust2      1      25        0   \n",
       "2  003201673717864202280_0171883906.dem  de_dust2      1      20        0   \n",
       "3  003201673717864202280_0171883906.dem  de_dust2      1      17        8   \n",
       "4  003201673717864202280_0171883906.dem  de_dust2      1      12        7   \n",
       "\n",
       "      wp             att_id             vic_id  vic_pos_x  vic_pos_y  \n",
       "0    USP  76561198085893650  76561198123082770    662.170    772.748  \n",
       "1    USP  76561198223006752  76561198051040004  -1184.006   1153.343  \n",
       "2  Glock  76561198051040004  76561198223006752  -1198.015   1050.423  \n",
       "3    USP  76561198223006752  76561198051040004  -1141.785   1190.089  \n",
       "4  Glock  76561198051040004  76561198223006752  -1157.690   1050.702  "
      ]
     },
     "execution_count": 10,
     "metadata": {},
     "output_type": "execute_result"
    }
   ],
   "source": [
    "df_master.head()"
   ]
  },
  {
   "cell_type": "code",
   "execution_count": 11,
   "id": "f6838043",
   "metadata": {
    "scrolled": true
   },
   "outputs": [
    {
     "data": {
      "text/plain": [
       "file         0\n",
       "map          0\n",
       "round        0\n",
       "hp_dmg       0\n",
       "arm_dmg      0\n",
       "wp           0\n",
       "att_id       0\n",
       "vic_id       0\n",
       "vic_pos_x    0\n",
       "vic_pos_y    0\n",
       "dtype: int64"
      ]
     },
     "execution_count": 11,
     "metadata": {},
     "output_type": "execute_result"
    }
   ],
   "source": [
    "# Check for null values\n",
    "df_master.isna().sum()"
   ]
  },
  {
   "cell_type": "markdown",
   "id": "e2dc4186",
   "metadata": {},
   "source": [
    "### Merging datasets <br>\n",
    "An outer merge is used since there are columns that are unique to each dataset"
   ]
  },
  {
   "cell_type": "code",
   "execution_count": 12,
   "id": "ac528aca",
   "metadata": {},
   "outputs": [],
   "source": [
    "# Merge the grenade and master dfs\n",
    "df = df_master.merge(df_grenades, how=\"outer\")"
   ]
  },
  {
   "cell_type": "code",
   "execution_count": 13,
   "id": "8923ae17",
   "metadata": {
    "scrolled": false
   },
   "outputs": [
    {
     "data": {
      "text/html": [
       "<div>\n",
       "<style scoped>\n",
       "    .dataframe tbody tr th:only-of-type {\n",
       "        vertical-align: middle;\n",
       "    }\n",
       "\n",
       "    .dataframe tbody tr th {\n",
       "        vertical-align: top;\n",
       "    }\n",
       "\n",
       "    .dataframe thead th {\n",
       "        text-align: right;\n",
       "    }\n",
       "</style>\n",
       "<table border=\"1\" class=\"dataframe\">\n",
       "  <thead>\n",
       "    <tr style=\"text-align: right;\">\n",
       "      <th></th>\n",
       "      <th>file</th>\n",
       "      <th>map</th>\n",
       "      <th>round</th>\n",
       "      <th>hp_dmg</th>\n",
       "      <th>arm_dmg</th>\n",
       "      <th>wp</th>\n",
       "      <th>att_id</th>\n",
       "      <th>vic_id</th>\n",
       "      <th>vic_pos_x</th>\n",
       "      <th>vic_pos_y</th>\n",
       "    </tr>\n",
       "  </thead>\n",
       "  <tbody>\n",
       "    <tr>\n",
       "      <th>0</th>\n",
       "      <td>003201673717864202280_0171883906.dem</td>\n",
       "      <td>de_dust2</td>\n",
       "      <td>1</td>\n",
       "      <td>100</td>\n",
       "      <td>0</td>\n",
       "      <td>USP</td>\n",
       "      <td>76561198085893650</td>\n",
       "      <td>7.656120e+16</td>\n",
       "      <td>662.170</td>\n",
       "      <td>772.748</td>\n",
       "    </tr>\n",
       "    <tr>\n",
       "      <th>1</th>\n",
       "      <td>003201673717864202280_0171883906.dem</td>\n",
       "      <td>de_dust2</td>\n",
       "      <td>1</td>\n",
       "      <td>25</td>\n",
       "      <td>0</td>\n",
       "      <td>USP</td>\n",
       "      <td>76561198223006752</td>\n",
       "      <td>7.656120e+16</td>\n",
       "      <td>-1184.006</td>\n",
       "      <td>1153.343</td>\n",
       "    </tr>\n",
       "    <tr>\n",
       "      <th>2</th>\n",
       "      <td>003201673717864202280_0171883906.dem</td>\n",
       "      <td>de_dust2</td>\n",
       "      <td>1</td>\n",
       "      <td>20</td>\n",
       "      <td>0</td>\n",
       "      <td>Glock</td>\n",
       "      <td>76561198051040004</td>\n",
       "      <td>7.656120e+16</td>\n",
       "      <td>-1198.015</td>\n",
       "      <td>1050.423</td>\n",
       "    </tr>\n",
       "    <tr>\n",
       "      <th>3</th>\n",
       "      <td>003201673717864202280_0171883906.dem</td>\n",
       "      <td>de_dust2</td>\n",
       "      <td>1</td>\n",
       "      <td>17</td>\n",
       "      <td>8</td>\n",
       "      <td>USP</td>\n",
       "      <td>76561198223006752</td>\n",
       "      <td>7.656120e+16</td>\n",
       "      <td>-1141.785</td>\n",
       "      <td>1190.089</td>\n",
       "    </tr>\n",
       "    <tr>\n",
       "      <th>4</th>\n",
       "      <td>003201673717864202280_0171883906.dem</td>\n",
       "      <td>de_dust2</td>\n",
       "      <td>1</td>\n",
       "      <td>12</td>\n",
       "      <td>7</td>\n",
       "      <td>Glock</td>\n",
       "      <td>76561198051040004</td>\n",
       "      <td>7.656120e+16</td>\n",
       "      <td>-1157.690</td>\n",
       "      <td>1050.702</td>\n",
       "    </tr>\n",
       "  </tbody>\n",
       "</table>\n",
       "</div>"
      ],
      "text/plain": [
       "                                   file       map  round  hp_dmg  arm_dmg  \\\n",
       "0  003201673717864202280_0171883906.dem  de_dust2      1     100        0   \n",
       "1  003201673717864202280_0171883906.dem  de_dust2      1      25        0   \n",
       "2  003201673717864202280_0171883906.dem  de_dust2      1      20        0   \n",
       "3  003201673717864202280_0171883906.dem  de_dust2      1      17        8   \n",
       "4  003201673717864202280_0171883906.dem  de_dust2      1      12        7   \n",
       "\n",
       "      wp             att_id        vic_id  vic_pos_x  vic_pos_y  \n",
       "0    USP  76561198085893650  7.656120e+16    662.170    772.748  \n",
       "1    USP  76561198223006752  7.656120e+16  -1184.006   1153.343  \n",
       "2  Glock  76561198051040004  7.656120e+16  -1198.015   1050.423  \n",
       "3    USP  76561198223006752  7.656120e+16  -1141.785   1190.089  \n",
       "4  Glock  76561198051040004  7.656120e+16  -1157.690   1050.702  "
      ]
     },
     "execution_count": 13,
     "metadata": {},
     "output_type": "execute_result"
    }
   ],
   "source": [
    "df.head()"
   ]
  },
  {
   "cell_type": "markdown",
   "id": "0fcae67d",
   "metadata": {},
   "source": [
    "### Get the most top played maps"
   ]
  },
  {
   "cell_type": "code",
   "execution_count": 14,
   "id": "ae4efe41",
   "metadata": {},
   "outputs": [
    {
     "data": {
      "text/plain": [
       "['de_mirage',\n",
       " 'de_dust2',\n",
       " 'de_cache',\n",
       " 'de_inferno',\n",
       " 'de_overpass',\n",
       " 'de_cbble',\n",
       " 'de_train',\n",
       " 'de_nuke',\n",
       " 'cs_office',\n",
       " 'de_thrill']"
      ]
     },
     "execution_count": 14,
     "metadata": {},
     "output_type": "execute_result"
    }
   ],
   "source": [
    "n = 10\n",
    "df['map'].value_counts()[:n].index.tolist()"
   ]
  },
  {
   "cell_type": "code",
   "execution_count": 15,
   "id": "6d18997b",
   "metadata": {
    "scrolled": true
   },
   "outputs": [
    {
     "name": "stdout",
     "output_type": "stream",
     "text": [
      "de_mirage       27.725193\n",
      "de_dust2        22.936791\n",
      "de_cache        18.651605\n",
      "de_inferno      13.031762\n",
      "de_overpass      6.133825\n",
      "de_cbble         5.193356\n",
      "de_train         2.743996\n",
      "de_nuke          1.014773\n",
      "cs_office        0.527403\n",
      "de_thrill        0.325419\n",
      "cs_agency        0.310179\n",
      "de_canals        0.306540\n",
      "de_vertigo       0.260062\n",
      "de_austria       0.148759\n",
      "cs_italy         0.148683\n",
      "cs_assault       0.135869\n",
      "de_dust          0.131472\n",
      "de_shipped       0.090605\n",
      "cs_insertion     0.073242\n",
      "de_aztec         0.055728\n",
      "de_blackgold     0.054742\n",
      "Name: map, dtype: float64\n"
     ]
    }
   ],
   "source": [
    "# Get the percentge of each one and we chose the most popular map to conduct our analysis on\n",
    "print((df['map'].value_counts() / df['map'].value_counts().sum())*100)\n",
    "df = df[df['map'] == 'de_mirage']"
   ]
  },
  {
   "cell_type": "code",
   "execution_count": 16,
   "id": "8098b40c",
   "metadata": {},
   "outputs": [],
   "source": [
    "# Remove all records(nades) with no damage since they are irrelevant to our analysis\n",
    "filt_nade_no_damage = ~((df['hp_dmg'] == 0) & (df['arm_dmg'] == 0))\n",
    "df = df.loc[filt_nade_no_damage]"
   ]
  },
  {
   "cell_type": "code",
   "execution_count": 17,
   "id": "921fac0d",
   "metadata": {
    "scrolled": true
   },
   "outputs": [
    {
     "data": {
      "text/plain": [
       "file          object\n",
       "map           object\n",
       "round          int64\n",
       "hp_dmg         int64\n",
       "arm_dmg        int64\n",
       "wp            object\n",
       "att_id         int64\n",
       "vic_id       float64\n",
       "vic_pos_x    float64\n",
       "vic_pos_y    float64\n",
       "dtype: object"
      ]
     },
     "execution_count": 17,
     "metadata": {},
     "output_type": "execute_result"
    }
   ],
   "source": [
    "# Checking datatypes\n",
    "df.dtypes"
   ]
  },
  {
   "cell_type": "code",
   "execution_count": 18,
   "id": "0a6e7c4f",
   "metadata": {
    "scrolled": true
   },
   "outputs": [],
   "source": [
    "#change ids to int\n",
    "df[\"vic_id\"] = df[\"vic_id\"].astype(int)\n",
    "df[\"att_id\"] = df[\"att_id\"].astype(int)"
   ]
  },
  {
   "cell_type": "markdown",
   "id": "9973a93e",
   "metadata": {},
   "source": [
    "#### Checking for outliers\n",
    "\n",
    "a boxplot for each integer column to show if there is outlier or not"
   ]
  },
  {
   "cell_type": "markdown",
   "id": "89600a1b",
   "metadata": {},
   "source": [
    "Note: there are a number of points that could be seen as ouliers in the hp_dmg column but they are actually not outliers.\n",
    "But why is that the case?\n",
    "\n",
    "Because there is a few number of weapons that could affect 100% of damage"
   ]
  },
  {
   "cell_type": "code",
   "execution_count": 19,
   "id": "a1d97767",
   "metadata": {},
   "outputs": [
    {
     "data": {
      "image/png": "[encoded data removed]",
      "text/plain": [
       "<Figure size 432x288 with 1 Axes>"
      ]
     },
     "metadata": {
      "needs_background": "light"
     },
     "output_type": "display_data"
    }
   ],
   "source": [
    "df.boxplot(column=['round','hp_dmg']);"
   ]
  },
  {
   "cell_type": "markdown",
   "id": "cf146b66",
   "metadata": {},
   "source": [
    "The below boxplot could show that there is an oulier but we make a box plot for the first two maps because they make 50%  of the most played maps and we will clearify that point \n"
   ]
  },
  {
   "cell_type": "code",
   "execution_count": 20,
   "id": "bc0ccfe2",
   "metadata": {},
   "outputs": [
    {
     "data": {
      "image/png": "[encoded data removed]",
      "text/plain": [
       "<Figure size 432x288 with 1 Axes>"
      ]
     },
     "metadata": {
      "needs_background": "light"
     },
     "output_type": "display_data"
    }
   ],
   "source": [
    "df.boxplot(column=['vic_pos_x']);"
   ]
  },
  {
   "cell_type": "code",
   "execution_count": 21,
   "id": "c3681e14",
   "metadata": {},
   "outputs": [
    {
     "data": {
      "image/png": "[encoded data removed]",
      "text/plain": [
       "<Figure size 432x288 with 1 Axes>"
      ]
     },
     "metadata": {
      "needs_background": "light"
     },
     "output_type": "display_data"
    }
   ],
   "source": [
    "df.boxplot(column=['vic_pos_y']);"
   ]
  },
  {
   "cell_type": "markdown",
   "id": "7b0dd15b",
   "metadata": {},
   "source": [
    "count the value of each weapon to check if there is a outlier or no"
   ]
  },
  {
   "cell_type": "code",
   "execution_count": 22,
   "id": "7a1c2f35",
   "metadata": {},
   "outputs": [
    {
     "data": {
      "text/plain": [
       "AK47            65864\n",
       "M4A4            23662\n",
       "M4A1            18860\n",
       "UMP             15723\n",
       "USP             13803\n",
       "Glock           13259\n",
       "Incendiary      12905\n",
       "P90             11325\n",
       "AWP             10758\n",
       "HE               8685\n",
       "MP7              8317\n",
       "P250             7239\n",
       "Deagle           6983\n",
       "Famas            5926\n",
       "Mac10            5360\n",
       "FiveSeven        4852\n",
       "Gallil           4035\n",
       "MP9              3855\n",
       "Tec9             2907\n",
       "CZ               2762\n",
       "SG556            2594\n",
       "AUG              2556\n",
       "Scout            2330\n",
       "P2000            2052\n",
       "Unknown          1962\n",
       "XM1014           1781\n",
       "Swag7            1573\n",
       "Bizon            1547\n",
       "Nova             1101\n",
       "Knife             705\n",
       "DualBarettas      434\n",
       "Negev             386\n",
       "Scar20            369\n",
       "G3SG1             241\n",
       "Molotov           218\n",
       "Smoke             205\n",
       "SawedOff          185\n",
       "Flash             169\n",
       "M249               57\n",
       "Zeus               44\n",
       "Decoy               3\n",
       "Name: wp, dtype: int64"
      ]
     },
     "execution_count": 22,
     "metadata": {},
     "output_type": "execute_result"
    }
   ],
   "source": [
    "df['wp'].value_counts() "
   ]
  },
  {
   "cell_type": "markdown",
   "id": "bdde04a3",
   "metadata": {},
   "source": [
    "### What are the top five weapons with the most damage?"
   ]
  },
  {
   "cell_type": "code",
   "execution_count": 23,
   "id": "7e2e678f",
   "metadata": {
    "scrolled": true
   },
   "outputs": [
    {
     "data": {
      "image/png": "[encoded data removed]",
      "text/plain": [
       "<Figure size 432x288 with 1 Axes>"
      ]
     },
     "metadata": {
      "needs_background": "light"
     },
     "output_type": "display_data"
    }
   ],
   "source": [
    "gk = df.groupby('wp')\n",
    "x=gk.sum().loc[:, ['hp_dmg','arm_dmg']].sum(axis=1).sort_values(ascending=False)[:5]\n",
    "x_axis = x.index\n",
    "y_axis = x.values\n",
    "\n",
    "plt.bar(x_axis,y_axis)\n",
    "plt.title('Most damaged weapons')\n",
    "plt.xlabel('weapon')\n",
    "plt.ylabel('damage')\n",
    "plt.show() "
   ]
  },
  {
   "cell_type": "code",
   "execution_count": 24,
   "id": "f410d342",
   "metadata": {},
   "outputs": [
    {
     "data": {
      "text/html": [
       "<div>\n",
       "<style scoped>\n",
       "    .dataframe tbody tr th:only-of-type {\n",
       "        vertical-align: middle;\n",
       "    }\n",
       "\n",
       "    .dataframe tbody tr th {\n",
       "        vertical-align: top;\n",
       "    }\n",
       "\n",
       "    .dataframe thead th {\n",
       "        text-align: right;\n",
       "    }\n",
       "</style>\n",
       "<table border=\"1\" class=\"dataframe\">\n",
       "  <thead>\n",
       "    <tr style=\"text-align: right;\">\n",
       "      <th></th>\n",
       "      <th>file</th>\n",
       "      <th>map</th>\n",
       "      <th>round</th>\n",
       "      <th>hp_dmg</th>\n",
       "      <th>arm_dmg</th>\n",
       "      <th>wp</th>\n",
       "      <th>att_id</th>\n",
       "      <th>vic_id</th>\n",
       "      <th>vic_pos_x</th>\n",
       "      <th>vic_pos_y</th>\n",
       "    </tr>\n",
       "  </thead>\n",
       "  <tbody>\n",
       "    <tr>\n",
       "      <th>4271</th>\n",
       "      <td>003218553373129179487_1555113029.dem</td>\n",
       "      <td>de_mirage</td>\n",
       "      <td>1</td>\n",
       "      <td>100</td>\n",
       "      <td>0</td>\n",
       "      <td>USP</td>\n",
       "      <td>76561198115686363</td>\n",
       "      <td>76561198370068224</td>\n",
       "      <td>-468.7209</td>\n",
       "      <td>529.1569</td>\n",
       "    </tr>\n",
       "    <tr>\n",
       "      <th>4272</th>\n",
       "      <td>003218553373129179487_1555113029.dem</td>\n",
       "      <td>de_mirage</td>\n",
       "      <td>1</td>\n",
       "      <td>15</td>\n",
       "      <td>8</td>\n",
       "      <td>Glock</td>\n",
       "      <td>76561198355692407</td>\n",
       "      <td>76561198115686368</td>\n",
       "      <td>-352.4009</td>\n",
       "      <td>392.1384</td>\n",
       "    </tr>\n",
       "    <tr>\n",
       "      <th>4273</th>\n",
       "      <td>003218553373129179487_1555113029.dem</td>\n",
       "      <td>de_mirage</td>\n",
       "      <td>1</td>\n",
       "      <td>85</td>\n",
       "      <td>0</td>\n",
       "      <td>Glock</td>\n",
       "      <td>76561198355692407</td>\n",
       "      <td>76561198115686368</td>\n",
       "      <td>-335.1208</td>\n",
       "      <td>401.2988</td>\n",
       "    </tr>\n",
       "    <tr>\n",
       "      <th>4274</th>\n",
       "      <td>003218553373129179487_1555113029.dem</td>\n",
       "      <td>de_mirage</td>\n",
       "      <td>1</td>\n",
       "      <td>100</td>\n",
       "      <td>0</td>\n",
       "      <td>USP</td>\n",
       "      <td>76561198152153688</td>\n",
       "      <td>76561198301910016</td>\n",
       "      <td>-1575.5010</td>\n",
       "      <td>685.9157</td>\n",
       "    </tr>\n",
       "    <tr>\n",
       "      <th>4275</th>\n",
       "      <td>003218553373129179487_1555113029.dem</td>\n",
       "      <td>de_mirage</td>\n",
       "      <td>1</td>\n",
       "      <td>100</td>\n",
       "      <td>0</td>\n",
       "      <td>USP</td>\n",
       "      <td>76561198355692407</td>\n",
       "      <td>76561198152153696</td>\n",
       "      <td>-2063.8480</td>\n",
       "      <td>793.9529</td>\n",
       "    </tr>\n",
       "  </tbody>\n",
       "</table>\n",
       "</div>"
      ],
      "text/plain": [
       "                                      file        map  round  hp_dmg  arm_dmg  \\\n",
       "4271  003218553373129179487_1555113029.dem  de_mirage      1     100        0   \n",
       "4272  003218553373129179487_1555113029.dem  de_mirage      1      15        8   \n",
       "4273  003218553373129179487_1555113029.dem  de_mirage      1      85        0   \n",
       "4274  003218553373129179487_1555113029.dem  de_mirage      1     100        0   \n",
       "4275  003218553373129179487_1555113029.dem  de_mirage      1     100        0   \n",
       "\n",
       "         wp             att_id             vic_id  vic_pos_x  vic_pos_y  \n",
       "4271    USP  76561198115686363  76561198370068224  -468.7209   529.1569  \n",
       "4272  Glock  76561198355692407  76561198115686368  -352.4009   392.1384  \n",
       "4273  Glock  76561198355692407  76561198115686368  -335.1208   401.2988  \n",
       "4274    USP  76561198152153688  76561198301910016 -1575.5010   685.9157  \n",
       "4275    USP  76561198355692407  76561198152153696 -2063.8480   793.9529  "
      ]
     },
     "execution_count": 24,
     "metadata": {},
     "output_type": "execute_result"
    }
   ],
   "source": [
    "df.head()"
   ]
  },
  {
   "cell_type": "markdown",
   "id": "2f4179ee",
   "metadata": {},
   "source": [
    "### Function that returns records for kills that happened, the number of times armor saved players, and the number of times armor did not save players"
   ]
  },
  {
   "cell_type": "code",
   "execution_count": 25,
   "id": "065fb01e",
   "metadata": {},
   "outputs": [],
   "source": [
    "#function to retrieve all kills, first kills in a round, players saved by armor, and players not saved by armor\n",
    "def get_kills():\n",
    "    #sort columns\n",
    "    df.sort_values(['file', 'round', 'vic_id'], inplace=True)\n",
    "    #declare variables\n",
    "    kills = []\n",
    "    saved = 0\n",
    "    not_saved = 0\n",
    "    #get all unique game names\n",
    "    unique_files = df[\"file\"].unique()\n",
    "    #loop over every game \n",
    "    for file in unique_files:\n",
    "        df_match = df[df['file'] == file]\n",
    "        #loop over every round in every game\n",
    "        for round_no in df_match['round'].unique():\n",
    "            df_round = df_match[df_match['round'] == round_no]\n",
    "            #loop over every victim in every round\n",
    "            for victim in df_round[\"vic_id\"].unique():                \n",
    "                df_vic = df_round[df_round['vic_id'] == victim]\n",
    "                hp_value = 100\n",
    "                armor_value = 0\n",
    "                #loop over every damage record for every victim\n",
    "                for idx, rec in df_vic.iterrows():\n",
    "                    hp_value -= rec['hp_dmg']\n",
    "                    armor_value += rec['arm_dmg']\n",
    "                    if hp_value <= 0:\n",
    "                        #victim died\n",
    "                        kills.append(idx)\n",
    "                        if armor_value:\n",
    "                            not_saved += 1\n",
    "                if hp_value - armor_value <= 0 and hp_value > 0:\n",
    "                    #armor saved this player\n",
    "                    saved += 1\n",
    "    return (kills, saved, not_saved)"
   ]
  },
  {
   "cell_type": "code",
   "execution_count": 26,
   "id": "1b09b059",
   "metadata": {
    "scrolled": false
   },
   "outputs": [],
   "source": [
    "# Warning: takes around a minute to run\n",
    "kills, saved, not_saved = get_kills()"
   ]
  },
  {
   "cell_type": "code",
   "execution_count": 27,
   "id": "ddc5edc1",
   "metadata": {
    "scrolled": true
   },
   "outputs": [
    {
     "name": "stdout",
     "output_type": "stream",
     "text": [
      "80783\n",
      "1763\n",
      "63845\n"
     ]
    }
   ],
   "source": [
    "print(len(kills))\n",
    "print(saved)\n",
    "print(not_saved)"
   ]
  },
  {
   "cell_type": "markdown",
   "id": "51a4556b",
   "metadata": {},
   "source": [
    "### How many times did armor save players visualized"
   ]
  },
  {
   "cell_type": "code",
   "execution_count": 28,
   "id": "c93dcd6a",
   "metadata": {},
   "outputs": [
    {
     "data": {
      "image/png": "[encoded data removed]",
      "text/plain": [
       "<Figure size 432x288 with 1 Axes>"
      ]
     },
     "metadata": {},
     "output_type": "display_data"
    }
   ],
   "source": [
    "slices = [saved, not_saved]\n",
    "labels = [\"Saved\", \"Not saved\"]\n",
    "plt.pie(slices, labels=labels, shadow=True, startangle= 90,\n",
    "        autopct='%1.1f%%',\n",
    "        wedgeprops={'edgecolor':'black'});\n",
    "plt.title(\"How many times armor saved players\")\n",
    "plt.tight_layout()\n",
    "plt.show();"
   ]
  },
  {
   "cell_type": "markdown",
   "id": "68f940a4",
   "metadata": {},
   "source": [
    "### Answering the question related to the density of kills on the most frequent maps, mirage"
   ]
  },
  {
   "cell_type": "code",
   "execution_count": 29,
   "id": "4a488ac2",
   "metadata": {},
   "outputs": [],
   "source": [
    "# Get the total width and height of the map\n",
    "df_map['total_x'] = df_map['EndX'] - df_map['StartX']\n",
    "df_map['total_y'] = df_map['EndY'] - df_map['StartY']"
   ]
  },
  {
   "cell_type": "code",
   "execution_count": 30,
   "id": "9a1e8d3a",
   "metadata": {},
   "outputs": [
    {
     "data": {
      "text/html": [
       "<div>\n",
       "<style scoped>\n",
       "    .dataframe tbody tr th:only-of-type {\n",
       "        vertical-align: middle;\n",
       "    }\n",
       "\n",
       "    .dataframe tbody tr th {\n",
       "        vertical-align: top;\n",
       "    }\n",
       "\n",
       "    .dataframe thead th {\n",
       "        text-align: right;\n",
       "    }\n",
       "</style>\n",
       "<table border=\"1\" class=\"dataframe\">\n",
       "  <thead>\n",
       "    <tr style=\"text-align: right;\">\n",
       "      <th></th>\n",
       "      <th>Unnamed: 0</th>\n",
       "      <th>EndX</th>\n",
       "      <th>EndY</th>\n",
       "      <th>ResX</th>\n",
       "      <th>ResY</th>\n",
       "      <th>StartX</th>\n",
       "      <th>StartY</th>\n",
       "      <th>total_x</th>\n",
       "      <th>total_y</th>\n",
       "    </tr>\n",
       "  </thead>\n",
       "  <tbody>\n",
       "    <tr>\n",
       "      <th>0</th>\n",
       "      <td>de_cache</td>\n",
       "      <td>3752</td>\n",
       "      <td>3187</td>\n",
       "      <td>1024</td>\n",
       "      <td>1024</td>\n",
       "      <td>-2031</td>\n",
       "      <td>-2240</td>\n",
       "      <td>5783</td>\n",
       "      <td>5427</td>\n",
       "    </tr>\n",
       "    <tr>\n",
       "      <th>1</th>\n",
       "      <td>de_cbble</td>\n",
       "      <td>2282</td>\n",
       "      <td>3032</td>\n",
       "      <td>1024</td>\n",
       "      <td>1024</td>\n",
       "      <td>-3819</td>\n",
       "      <td>-3073</td>\n",
       "      <td>6101</td>\n",
       "      <td>6105</td>\n",
       "    </tr>\n",
       "    <tr>\n",
       "      <th>2</th>\n",
       "      <td>de_dust2</td>\n",
       "      <td>2127</td>\n",
       "      <td>3455</td>\n",
       "      <td>1024</td>\n",
       "      <td>1024</td>\n",
       "      <td>-2486</td>\n",
       "      <td>-1150</td>\n",
       "      <td>4613</td>\n",
       "      <td>4605</td>\n",
       "    </tr>\n",
       "    <tr>\n",
       "      <th>3</th>\n",
       "      <td>de_inferno</td>\n",
       "      <td>2797</td>\n",
       "      <td>3800</td>\n",
       "      <td>1024</td>\n",
       "      <td>1024</td>\n",
       "      <td>-1960</td>\n",
       "      <td>-1062</td>\n",
       "      <td>4757</td>\n",
       "      <td>4862</td>\n",
       "    </tr>\n",
       "    <tr>\n",
       "      <th>4</th>\n",
       "      <td>de_mirage</td>\n",
       "      <td>1912</td>\n",
       "      <td>1682</td>\n",
       "      <td>1024</td>\n",
       "      <td>1024</td>\n",
       "      <td>-3217</td>\n",
       "      <td>-3401</td>\n",
       "      <td>5129</td>\n",
       "      <td>5083</td>\n",
       "    </tr>\n",
       "    <tr>\n",
       "      <th>5</th>\n",
       "      <td>de_overpass</td>\n",
       "      <td>503</td>\n",
       "      <td>1740</td>\n",
       "      <td>1024</td>\n",
       "      <td>1024</td>\n",
       "      <td>-4820</td>\n",
       "      <td>-3591</td>\n",
       "      <td>5323</td>\n",
       "      <td>5331</td>\n",
       "    </tr>\n",
       "    <tr>\n",
       "      <th>6</th>\n",
       "      <td>de_train</td>\n",
       "      <td>2262</td>\n",
       "      <td>2447</td>\n",
       "      <td>1024</td>\n",
       "      <td>1024</td>\n",
       "      <td>-2436</td>\n",
       "      <td>-2469</td>\n",
       "      <td>4698</td>\n",
       "      <td>4916</td>\n",
       "    </tr>\n",
       "  </tbody>\n",
       "</table>\n",
       "</div>"
      ],
      "text/plain": [
       "    Unnamed: 0  EndX  EndY  ResX  ResY  StartX  StartY  total_x  total_y\n",
       "0     de_cache  3752  3187  1024  1024   -2031   -2240     5783     5427\n",
       "1     de_cbble  2282  3032  1024  1024   -3819   -3073     6101     6105\n",
       "2     de_dust2  2127  3455  1024  1024   -2486   -1150     4613     4605\n",
       "3   de_inferno  2797  3800  1024  1024   -1960   -1062     4757     4862\n",
       "4    de_mirage  1912  1682  1024  1024   -3217   -3401     5129     5083\n",
       "5  de_overpass   503  1740  1024  1024   -4820   -3591     5323     5331\n",
       "6     de_train  2262  2447  1024  1024   -2436   -2469     4698     4916"
      ]
     },
     "execution_count": 30,
     "metadata": {},
     "output_type": "execute_result"
    }
   ],
   "source": [
    "df_map"
   ]
  },
  {
   "cell_type": "code",
   "execution_count": 31,
   "id": "28ca80b4",
   "metadata": {},
   "outputs": [],
   "source": [
    "from PIL import Image\n",
    "\n",
    "# Get values related to mirage\n",
    "\n",
    "total_x = list(df_map[df_map['Unnamed: 0'] == 'de_mirage']['total_x'])[0]\n",
    "neg_x = -list(df_map[df_map['Unnamed: 0'] == 'de_mirage']['StartX'])[0]\n",
    "total_y = list(df_map[df_map['Unnamed: 0'] == 'de_mirage']['total_y'])[0]\n",
    "neg_y = -list(df_map[df_map['Unnamed: 0'] == 'de_mirage']['StartY'])[0]\n",
    "mapName=\"de_mirage\"\n",
    "FILENAME = mapName+\".png\"\n",
    "\n",
    "# Using the Image module to load the map\n",
    "img = Image.open(FILENAME)\n",
    "\n",
    "# Resizing the image\n",
    "img = img.resize((total_x, total_y), Image.ANTIALIAS) #total_x and total_y"
   ]
  },
  {
   "cell_type": "code",
   "execution_count": 32,
   "id": "085ddb9d",
   "metadata": {},
   "outputs": [],
   "source": [
    "# Extract records where kills have happened\n",
    "df_kills = df.loc[kills]\n",
    "df_kills = df_kills.loc[:, ['vic_pos_x','vic_pos_y']]"
   ]
  },
  {
   "cell_type": "code",
   "execution_count": 33,
   "id": "15e9166c",
   "metadata": {},
   "outputs": [],
   "source": [
    "# Shift all values to the positive side\n",
    "df_kills['vic_pos_x'] = (df_kills['vic_pos_x'] + neg_x).astype(int) # Negative X\n",
    "df_kills['vic_pos_y'] = (df_kills['vic_pos_y'] + neg_y).astype(int) # Negative Y"
   ]
  },
  {
   "cell_type": "code",
   "execution_count": 34,
   "id": "1e562c8b",
   "metadata": {},
   "outputs": [],
   "source": [
    "# Approximate to a circle of a diameter of 10\n",
    "df_kills['vic_pos_x'] = df_kills['vic_pos_x'] - df_kills['vic_pos_x'] % -10\n",
    "df_kills['vic_pos_y'] = df_kills['vic_pos_y'] - df_kills['vic_pos_y'] % -10"
   ]
  },
  {
   "cell_type": "code",
   "execution_count": 35,
   "id": "7e929c02",
   "metadata": {},
   "outputs": [
    {
     "data": {
      "image/png": "[encoded data removed]",
      "text/plain": [
       "<Figure size 432x288 with 2 Axes>"
      ]
     },
     "metadata": {
      "needs_background": "light"
     },
     "output_type": "display_data"
    }
   ],
   "source": [
    "x = df_kills['vic_pos_y'] #Swap x and y\n",
    "y = df_kills['vic_pos_x'] #Swap x and y\n",
    "coorx = total_x #total_x \n",
    "coory = total_y #total_y\n",
    "binsize = 40 #trial and error\n",
    "\n",
    "heatmap, xedges, yedges = np.histogram2d(x, y, bins=[np.arange(0,coorx,binsize),np.arange(0,coory,binsize)])\n",
    "\n",
    "# Initialize the image's width and height\n",
    "extent_img = 0, total_x, 0, total_y\n",
    "\n",
    "extent_heat = min(x), max(x), min(y), max(y)\n",
    "\n",
    "fig, ax = plt.subplots()\n",
    "\n",
    "# Showing the heatmap (Histogram2d)\n",
    "plt.imshow(heatmap, origin='lower', extent=extent_img, interpolation=\"none\", alpha=1, cmap=cm.gist_rainbow);\n",
    "\n",
    "ax.imshow(img, extent=extent_img, alpha=0.7);\n",
    "\n",
    "plt.colorbar();"
   ]
  },
  {
   "cell_type": "markdown",
   "id": "d02fb765",
   "metadata": {},
   "source": [
    "### Phase 2 Dataset Modifications"
   ]
  },
  {
   "cell_type": "markdown",
   "id": "37195493",
   "metadata": {},
   "source": [
    "### Using an API to answer the questions:<br>\n",
    "<li>What is the average age of professional CS:GO players?</li>\n",
    "<li>What is the most common nationality of professional CS:GO players?</li>\n",
    "\n",
    "1-first check if there is a pickle file with same directory as the notebook or not<br>\n",
    "2-if yes will take the data from the pickle file and will put it into results<br>\n",
    "3-if no will go to every player ID and call the API<br>\n"
   ]
  },
  {
   "cell_type": "code",
   "execution_count": 36,
   "id": "bbab8ff6",
   "metadata": {},
   "outputs": [
    {
     "name": "stdout",
     "output_type": "stream",
     "text": [
      "Data extracted from file successfully\n"
     ]
    }
   ],
   "source": [
    "teams = []\n",
    "try:\n",
    "    with open('teams.pickle', 'rb') as f:\n",
    "        teams = pickle.load(f)\n",
    "        print(\"Data extracted from file successfully\")\n",
    "except Exception as e:\n",
    "    print(\"File was not found, calling the API for data...\")\n",
    "    # Get all teams and turn them into a dictionary\n",
    "    json_text_all_teams = requests.get(f\"https://api.sportsdata.io/v3/csgo/scores/json/Teams?key=dcd5cc81433b4382b9a6d09f349d051d\").text\n",
    "    dict_text_all_teams = json.loads(json_text_all_teams)\n",
    "    # Extract all the team ids\n",
    "    teams_ids = [team['TeamId'] for team in dict_text_all_teams]\n",
    "    for progress,team_id in enumerate(teams_ids):\n",
    "        # Call the API for each player ID\n",
    "        json_text_team = requests.get(f\"https://api.sportsdata.io/v3/csgo/scores/json/PlayersByTeam/{team_id}?key=dcd5cc81433b4382b9a6d09f349d051d\").text\n",
    "        # From JSON to Dict\n",
    "        temp = json.loads(json_text_team)\n",
    "        # Ensure there is actual data\n",
    "        if (len(temp)):\n",
    "            teams.append(temp)\n",
    "        # Keep track of how many API calls were made\n",
    "        print(f\"{progress+1}/{len(teams_ids)}\")\n",
    "    # Save the teams data into a pickle file to prevent having to call the API eveytime\n",
    "    with open('teams.pickle', 'wb') as f:\n",
    "        pickle.dump(teams, f)"
   ]
  },
  {
   "cell_type": "markdown",
   "id": "6bca5908",
   "metadata": {},
   "source": [
    "### What is the average age of professional CS:GO players?"
   ]
  },
  {
   "cell_type": "code",
   "execution_count": 37,
   "id": "b0015fd1",
   "metadata": {},
   "outputs": [],
   "source": [
    "# Extract their date of birth\n",
    "dates = [player['BirthDate'] for team in teams for player in team if player['BirthDate']]"
   ]
  },
  {
   "cell_type": "code",
   "execution_count": 38,
   "id": "3b8f0535",
   "metadata": {},
   "outputs": [],
   "source": [
    "# Get age from birthdate\n",
    "def age(birthdate):\n",
    "    today = date.today()\n",
    "    age = today.year - birthdate.year - ((today.month, today.day) < (birthdate.month, birthdate.day))\n",
    "    return age"
   ]
  },
  {
   "cell_type": "code",
   "execution_count": 39,
   "id": "221ac7c1",
   "metadata": {},
   "outputs": [],
   "source": [
    "from datetime import datetime, date\n",
    "# Change date from str to datetime and calculate the age\n",
    "ages=[]\n",
    "for birthdate in dates:\n",
    "    date_time_obj = datetime.strptime(birthdate[:10], '%Y-%m-%d')\n",
    "    ages.append(age(date_time_obj))"
   ]
  },
  {
   "cell_type": "code",
   "execution_count": 40,
   "id": "97b6fd97",
   "metadata": {},
   "outputs": [
    {
     "data": {
      "image/png": "[encoded data removed]",
      "text/plain": [
       "<Figure size 432x288 with 1 Axes>"
      ]
     },
     "metadata": {
      "needs_background": "light"
     },
     "output_type": "display_data"
    }
   ],
   "source": [
    "# Plot all ages, with a vertical line at the avg age\n",
    "avg_age = mean(ages)\n",
    "color = '#fc4f30'\n",
    "bins = [x for x in range(min(ages),max(ages), 1)]\n",
    "\n",
    "plt.hist(ages, bins=bins, edgecolor=\"k\")\n",
    "\n",
    "plt.axvline(avg_age, color=color, label=\"Mean\")\n",
    "plt.legend()\n",
    "\n",
    "plt.title('Ages of players')\n",
    "plt.xlabel('Ages')\n",
    "plt.ylabel('Total Players');"
   ]
  },
  {
   "cell_type": "code",
   "execution_count": 41,
   "id": "d418078b",
   "metadata": {},
   "outputs": [
    {
     "name": "stdout",
     "output_type": "stream",
     "text": [
      "Average age of professional CS:GO players is:  26.78\n"
     ]
    }
   ],
   "source": [
    "# Get average of ages\n",
    "print(\"Average age of professional CS:GO players is: \", round(avg_age,2))"
   ]
  },
  {
   "cell_type": "markdown",
   "id": "b2490aaa",
   "metadata": {},
   "source": [
    "### What is the most common nationality of professional CS:GO players?"
   ]
  },
  {
   "cell_type": "code",
   "execution_count": 42,
   "id": "3e873802",
   "metadata": {},
   "outputs": [],
   "source": [
    "# Get their nationalities\n",
    "nationalities = [player['Nationality'] for team in teams for player in team if player['Nationality']]"
   ]
  },
  {
   "cell_type": "code",
   "execution_count": 43,
   "id": "985e9d62",
   "metadata": {},
   "outputs": [
    {
     "data": {
      "image/png": "[encoded data removed]",
      "text/plain": [
       "<Figure size 432x288 with 1 Axes>"
      ]
     },
     "metadata": {
      "needs_background": "light"
     },
     "output_type": "display_data"
    }
   ],
   "source": [
    "# Extract the 10 most frequent nationalities\n",
    "nat_idx = pd.Series(nationalities).value_counts()[:10].index\n",
    "nat_val = pd.Series(nationalities).value_counts()[:10].values\n",
    "\n",
    "# Plot those 10 nationalities using a horizontal bar-chart)\n",
    "plt.barh(nat_idx,nat_val)\n",
    "\n",
    "plt.title('Nationalities of players')\n",
    "plt.xlabel('Nationalities')\n",
    "plt.ylabel('Total Players');"
   ]
  },
  {
   "cell_type": "code",
   "execution_count": 44,
   "id": "fea2b21f",
   "metadata": {},
   "outputs": [
    {
     "data": {
      "text/plain": [
       "'United States'"
      ]
     },
     "execution_count": 44,
     "metadata": {},
     "output_type": "execute_result"
    }
   ],
   "source": [
    "# Get the most common nationality\n",
    "nat_idx[0]"
   ]
  },
  {
   "cell_type": "markdown",
   "id": "98400305",
   "metadata": {},
   "source": [
    "### Scrapping the web to answer the questions:<br>\n",
    "\n",
    "<li>Is there a relationship between a player's k/d and their winrate?</li>\n",
    "<li>Is there a relationship between a player's playtime and their accuracy?</li>\n",
    "\n",
    "1-First, a check is made if there is a pickle file with same directory as the notebook or not<br>\n",
    "2-If there is a pickle file, the data will be retrieved from the pickle file and will be stored in results<br>\n",
    "3-However, if there is no pickle file, the scrapper will go to every player ID and scrape<br>\n",
    "4-After scrapping the data from the player IDs, both the results, and any errors that may have occured will be printed out<br>"
   ]
  },
  {
   "cell_type": "code",
   "execution_count": 45,
   "id": "c507d05b",
   "metadata": {},
   "outputs": [
    {
     "name": "stdout",
     "output_type": "stream",
     "text": [
      "Pickle file found. Pages will not be scraped.\n"
     ]
    }
   ],
   "source": [
    "unique_ids = df['att_id'].unique()\n",
    "private_accs = 0\n",
    "results = []\n",
    "error_results = []\n",
    "try:\n",
    "    print('Pickle file found. Pages will not be scraped.')\n",
    "    results = pickle.load(open(\"results.pickle\", \"rb\"))\n",
    "except (OSError, IOError) as e:\n",
    "    print('No pickle file found. Scraping pages...')\n",
    "    for progress, player_id in enumerate(unique_ids):\n",
    "        link=\"https://tracker.gg/csgo/profile/steam/\"+str(player_id)+\"/overview\"\n",
    "        headers = { 'User-Agent': 'Mozilla/5.0 (Windows NT 6.0; WOW64; rv:24.0) Gecko/20100101 Firefox/24.0' }\n",
    "        result = requests.get(link, headers=headers)\n",
    "        status_code = result.status_code\n",
    "        if status_code == 451:\n",
    "            private_accs += 1\n",
    "        elif status_code == 200:\n",
    "            results.append(result)\n",
    "        else:\n",
    "            print(status_code)\n",
    "            error_results.append(result)\n",
    "        print(f\"{progress+1}/{len(unique_ids)}\")\n",
    "    print(private_accs)\n",
    "    print(error_results)\n",
    "pickle_out = open('results.pickle','wb')\n",
    "pickle.dump(results,pickle_out)\n",
    "pickle_out.close()"
   ]
  },
  {
   "cell_type": "markdown",
   "id": "e76bc14a",
   "metadata": {},
   "source": [
    "### Getting the required data from the scrapping\n",
    "\n",
    "1. A for loop iterates on each result<br>\n",
    "2. The entire HTML page is scrapped and stored<br>\n",
    "3. The extracted data and \"play time\" data are extracted seperately from the HTML pages by filtering out any HTML tags that are not span tags<br>\n",
    "4. Extracted data is appended to the results list and play time data is stored seperately since it uses a different method of extraction<br>"
   ]
  },
  {
   "cell_type": "code",
   "execution_count": 46,
   "id": "6fec64ef",
   "metadata": {},
   "outputs": [],
   "source": [
    "public_ids = []\n",
    "all_ids_data = []\n",
    "all_playtimes_span = []\n",
    "# Warning: takes around a minute to run\n",
    "for result in results:\n",
    "    src=result.content\n",
    "    soup=BeautifulSoup(src,\"lxml\")\n",
    "    extracted_data=soup.find_all(\"span\",{\"class\":\"value\"})\n",
    "    extracted_playtime = soup.find_all(\"span\",{\"class\":\"playtime\"})\n",
    "    all_playtimes_span.append(extracted_playtime)\n",
    "    public_ids.append(int(result.url.split('/')[-2]))\n",
    "    all_ids_data.append(extracted_data)"
   ]
  },
  {
   "cell_type": "code",
   "execution_count": 1,
   "id": "3abb41df",
   "metadata": {},
   "outputs": [
    {
     "ename": "NameError",
     "evalue": "name 'all_ids_data' is not defined",
     "output_type": "error",
     "traceback": [
      "\u001b[1;31m---------------------------------------------------------------------------\u001b[0m",
      "\u001b[1;31mNameError\u001b[0m                                 Traceback (most recent call last)",
      "\u001b[1;32m~\\AppData\\Local\\Temp/ipykernel_19188/2525601529.py\u001b[0m in \u001b[0;36m<module>\u001b[1;34m\u001b[0m\n\u001b[0;32m      1\u001b[0m \u001b[1;31m# Add all extracted data to a seperate list\u001b[0m\u001b[1;33m\u001b[0m\u001b[1;33m\u001b[0m\u001b[0m\n\u001b[0;32m      2\u001b[0m \u001b[0mall_extracted_data\u001b[0m \u001b[1;33m=\u001b[0m \u001b[1;33m[\u001b[0m\u001b[1;33m]\u001b[0m\u001b[1;33m\u001b[0m\u001b[1;33m\u001b[0m\u001b[0m\n\u001b[1;32m----> 3\u001b[1;33m \u001b[1;32mfor\u001b[0m \u001b[0mi\u001b[0m \u001b[1;32min\u001b[0m \u001b[0mrange\u001b[0m\u001b[1;33m(\u001b[0m\u001b[0mlen\u001b[0m\u001b[1;33m(\u001b[0m\u001b[0mall_ids_data\u001b[0m\u001b[1;33m)\u001b[0m\u001b[1;33m)\u001b[0m\u001b[1;33m:\u001b[0m\u001b[1;33m\u001b[0m\u001b[1;33m\u001b[0m\u001b[0m\n\u001b[0m\u001b[0;32m      4\u001b[0m     \u001b[1;32mfor\u001b[0m \u001b[0mj\u001b[0m \u001b[1;32min\u001b[0m \u001b[0mrange\u001b[0m \u001b[1;33m(\u001b[0m\u001b[0mlen\u001b[0m\u001b[1;33m(\u001b[0m\u001b[0mall_ids_data\u001b[0m\u001b[1;33m[\u001b[0m\u001b[0mi\u001b[0m\u001b[1;33m]\u001b[0m\u001b[1;33m)\u001b[0m\u001b[1;33m)\u001b[0m\u001b[1;33m:\u001b[0m\u001b[1;33m\u001b[0m\u001b[1;33m\u001b[0m\u001b[0m\n\u001b[0;32m      5\u001b[0m         \u001b[0mall_extracted_data\u001b[0m\u001b[1;33m.\u001b[0m\u001b[0mappend\u001b[0m\u001b[1;33m(\u001b[0m\u001b[0mall_ids_data\u001b[0m\u001b[1;33m[\u001b[0m\u001b[0mi\u001b[0m\u001b[1;33m]\u001b[0m\u001b[1;33m[\u001b[0m\u001b[0mj\u001b[0m\u001b[1;33m]\u001b[0m\u001b[1;33m.\u001b[0m\u001b[0mtext\u001b[0m\u001b[1;33m)\u001b[0m\u001b[1;33m\u001b[0m\u001b[1;33m\u001b[0m\u001b[0m\n",
      "\u001b[1;31mNameError\u001b[0m: name 'all_ids_data' is not defined"
     ]
    }
   ],
   "source": [
    "# Add all extracted data to a seperate list\n",
    "all_extracted_data = []\n",
    "for i in range(len(all_ids_data)):\n",
    "    for j in range (len(all_ids_data[i])):\n",
    "        all_extracted_data.append(all_ids_data[i][j].text)"
   ]
  },
  {
   "cell_type": "code",
   "execution_count": 48,
   "id": "c2f786bf",
   "metadata": {},
   "outputs": [],
   "source": [
    "#Retrieve KD and then convert each value to float\n",
    "kd = []\n",
    "for data in range(0,len(all_extracted_data),16):\n",
    "    kd.append(float(all_extracted_data[data]))"
   ]
  },
  {
   "cell_type": "code",
   "execution_count": 49,
   "id": "2d5bf200",
   "metadata": {},
   "outputs": [],
   "source": [
    "#Retireve win_rate and coverting each element to float \n",
    "win_rate = [] \n",
    "for data in range(2,len(all_extracted_data),16):\n",
    "    all_extracted_data[data] = all_extracted_data[data].strip('%')\n",
    "    win_rate.append(float(all_extracted_data[data]))"
   ]
  },
  {
   "cell_type": "code",
   "execution_count": 50,
   "id": "a1168533",
   "metadata": {},
   "outputs": [],
   "source": [
    "#Play time is cleaned using strip method to remove any irrelevant characters and empty spaces in the data\n",
    "#final numerical value is still in a string format, so it must be converted to float\n",
    "all_playtimes = []\n",
    "for i in range(len(all_playtimes_span)):\n",
    "    all_playtimes.append(int(all_playtimes_span[i][0].text.strip().split('h')[0].replace(',','')))"
   ]
  },
  {
   "cell_type": "code",
   "execution_count": 51,
   "id": "e65ed77e",
   "metadata": {
    "scrolled": true
   },
   "outputs": [],
   "source": [
    "#Retireve accuracy\n",
    "accuracy = []\n",
    "for data in range(11,len(all_extracted_data),16):\n",
    "    all_extracted_data[data] = all_extracted_data[data].strip('%')\n",
    "    accuracy.append(float(all_extracted_data[data]))"
   ]
  },
  {
   "cell_type": "code",
   "execution_count": 52,
   "id": "22b1a51f",
   "metadata": {},
   "outputs": [],
   "source": [
    "#Form a dataframe of the scrapped data along with the att_id\n",
    "grouped_data_dict = {'att_id':public_ids,'att_kd':kd,'att_wr':win_rate,'att_acc':accuracy,'att_playtime':all_playtimes}\n",
    "df_scraped = pd.DataFrame(grouped_data_dict)"
   ]
  },
  {
   "cell_type": "markdown",
   "id": "8833e37a",
   "metadata": {},
   "source": [
    "### Cleaning of scrapped data\n",
    "Detecting and removing outliers"
   ]
  },
  {
   "cell_type": "code",
   "execution_count": 2,
   "id": "b078a77a",
   "metadata": {
    "scrolled": true
   },
   "outputs": [
    {
     "ename": "NameError",
     "evalue": "name 'df_scraped' is not defined",
     "output_type": "error",
     "traceback": [
      "\u001b[1;31m---------------------------------------------------------------------------\u001b[0m",
      "\u001b[1;31mNameError\u001b[0m                                 Traceback (most recent call last)",
      "\u001b[1;32m~\\AppData\\Local\\Temp/ipykernel_19188/1358955056.py\u001b[0m in \u001b[0;36m<module>\u001b[1;34m\u001b[0m\n\u001b[0;32m      1\u001b[0m \u001b[1;31m# make a boxplot for att_kd to check for outliers\u001b[0m\u001b[1;33m\u001b[0m\u001b[1;33m\u001b[0m\u001b[0m\n\u001b[1;32m----> 2\u001b[1;33m \u001b[0mdf_scraped\u001b[0m\u001b[1;33m.\u001b[0m\u001b[0mboxplot\u001b[0m\u001b[1;33m(\u001b[0m\u001b[0mcolumn\u001b[0m\u001b[1;33m=\u001b[0m\u001b[1;33m[\u001b[0m\u001b[1;34m'att_kd'\u001b[0m\u001b[1;33m]\u001b[0m\u001b[1;33m)\u001b[0m\u001b[1;33m;\u001b[0m\u001b[1;33m\u001b[0m\u001b[1;33m\u001b[0m\u001b[0m\n\u001b[0m",
      "\u001b[1;31mNameError\u001b[0m: name 'df_scraped' is not defined"
     ]
    }
   ],
   "source": [
    "#A boxplot for the \"att_kd\" column to check for outliers\n",
    "df_scraped.boxplot(column=['att_kd']);"
   ]
  },
  {
   "cell_type": "code",
   "execution_count": 54,
   "id": "043841d2",
   "metadata": {},
   "outputs": [
    {
     "data": {
      "image/png": "[encoded data removed]",
      "text/plain": [
       "<Figure size 432x288 with 1 Axes>"
      ]
     },
     "metadata": {
      "needs_background": "light"
     },
     "output_type": "display_data"
    }
   ],
   "source": [
    "#A boxplot for the \"att_acc\" column to check for outliers \n",
    "df_scraped.boxplot(column=['att_acc']);"
   ]
  },
  {
   "cell_type": "code",
   "execution_count": 55,
   "id": "95b43fb0",
   "metadata": {},
   "outputs": [
    {
     "data": {
      "image/png": "[encoded data removed]",
      "text/plain": [
       "<Figure size 432x288 with 1 Axes>"
      ]
     },
     "metadata": {
      "needs_background": "light"
     },
     "output_type": "display_data"
    }
   ],
   "source": [
    "#A boxplot for att_wr to check for outliers\n",
    "df_scraped.boxplot(column=['att_wr']);"
   ]
  },
  {
   "cell_type": "code",
   "execution_count": 57,
   "id": "dd13c8e6",
   "metadata": {},
   "outputs": [
    {
     "data": {
      "image/png": "[encoded data removed]",
      "text/plain": [
       "<Figure size 432x288 with 1 Axes>"
      ]
     },
     "metadata": {
      "needs_background": "light"
     },
     "output_type": "display_data"
    }
   ],
   "source": [
    "# Make a new boxplot after deleting the rows\n",
    "df_scraped.boxplot(column=['att_wr']);"
   ]
  },
  {
   "cell_type": "code",
   "execution_count": 3,
   "id": "93ce7cb1",
   "metadata": {},
   "outputs": [
    {
     "ename": "NameError",
     "evalue": "name 'df_scraped' is not defined",
     "output_type": "error",
     "traceback": [
      "\u001b[1;31m---------------------------------------------------------------------------\u001b[0m",
      "\u001b[1;31mNameError\u001b[0m                                 Traceback (most recent call last)",
      "\u001b[1;32m~\\AppData\\Local\\Temp/ipykernel_19188/2998978895.py\u001b[0m in \u001b[0;36m<module>\u001b[1;34m\u001b[0m\n\u001b[0;32m      1\u001b[0m \u001b[1;31m# Values above 100 are seen as outliers since a win rate is percentage based. Therefore, these values must be removed\u001b[0m\u001b[1;33m\u001b[0m\u001b[1;33m\u001b[0m\u001b[0m\n\u001b[1;32m----> 2\u001b[1;33m \u001b[0mdf_scraped\u001b[0m\u001b[1;33m.\u001b[0m\u001b[0mdrop\u001b[0m\u001b[1;33m(\u001b[0m\u001b[0mdf_scraped\u001b[0m\u001b[1;33m[\u001b[0m\u001b[0mdf_scraped\u001b[0m\u001b[1;33m[\u001b[0m\u001b[1;34m'att_wr'\u001b[0m\u001b[1;33m]\u001b[0m \u001b[1;33m>\u001b[0m \u001b[1;36m100\u001b[0m\u001b[1;33m]\u001b[0m\u001b[1;33m.\u001b[0m\u001b[0mindex\u001b[0m\u001b[1;33m,\u001b[0m \u001b[0minplace\u001b[0m \u001b[1;33m=\u001b[0m \u001b[1;32mTrue\u001b[0m\u001b[1;33m)\u001b[0m\u001b[1;33m\u001b[0m\u001b[1;33m\u001b[0m\u001b[0m\n\u001b[0m",
      "\u001b[1;31mNameError\u001b[0m: name 'df_scraped' is not defined"
     ]
    }
   ],
   "source": [
    "# Values above 100 are seen as outliers since a win rate is percentage based. Therefore, these values must be removed\n",
    "df_scraped.drop(df_scraped[df_scraped['att_wr'] > 100].index, inplace = True)"
   ]
  },
  {
   "cell_type": "code",
   "execution_count": 59,
   "id": "13c4b428",
   "metadata": {},
   "outputs": [
    {
     "data": {
      "image/png": "[encoded data removed]",
      "text/plain": [
       "<Figure size 432x288 with 1 Axes>"
      ]
     },
     "metadata": {
      "needs_background": "light"
     },
     "output_type": "display_data"
    }
   ],
   "source": [
    "# A boxplot for att_playtime to check for outliers\n",
    "df_scraped.boxplot(column=['att_playtime']);"
   ]
  },
  {
   "cell_type": "code",
   "execution_count": 58,
   "id": "c6a548b8",
   "metadata": {},
   "outputs": [],
   "source": [
    "# Values above 10000 are seen as outliers as those values are too large, and do not represent an average sample of players\n",
    "df_scraped.drop(df_scraped[df_scraped['att_playtime'] > 10000].index, inplace = True)"
   ]
  },
  {
   "cell_type": "markdown",
   "id": "b34d1302",
   "metadata": {},
   "source": [
    "### Merging the old dataset and the newly scrapped data\n",
    "\n",
    "<ol>\n",
    "    <li>Add the columns of the new df</li>\n",
    "    <li>Loop through all ids of the new df</li>\n",
    "    <li>Match and add values to the merged df based on the ids</li>\n",
    "</ol>"
   ]
  },
  {
   "cell_type": "code",
   "execution_count": 60,
   "id": "99e01ace",
   "metadata": {
    "scrolled": true
   },
   "outputs": [],
   "source": [
    "# Merge the old and new data\n",
    "df_merged = df.copy(deep=True)\n",
    "df_merged[['att_kd','att_wr','att_acc','att_playtime']] = None\n",
    "# Warning: takes around a minute to run\n",
    "for rec in df_scraped.itertuples():\n",
    "    temp_filt = (df_merged['att_id'] == rec[1])\n",
    "    df_merged.loc[temp_filt,'att_kd'] = rec[2]\n",
    "    df_merged.loc[temp_filt,'att_wr'] = rec[3]\n",
    "    df_merged.loc[temp_filt,'att_acc'] = rec[4]\n",
    "    df_merged.loc[temp_filt,'att_playtime'] = rec[5]\n"
   ]
  },
  {
   "cell_type": "code",
   "execution_count": 61,
   "id": "8eb57cba",
   "metadata": {
    "scrolled": true
   },
   "outputs": [
    {
     "data": {
      "text/html": [
       "<div>\n",
       "<style scoped>\n",
       "    .dataframe tbody tr th:only-of-type {\n",
       "        vertical-align: middle;\n",
       "    }\n",
       "\n",
       "    .dataframe tbody tr th {\n",
       "        vertical-align: top;\n",
       "    }\n",
       "\n",
       "    .dataframe thead th {\n",
       "        text-align: right;\n",
       "    }\n",
       "</style>\n",
       "<table border=\"1\" class=\"dataframe\">\n",
       "  <thead>\n",
       "    <tr style=\"text-align: right;\">\n",
       "      <th></th>\n",
       "      <th>file</th>\n",
       "      <th>map</th>\n",
       "      <th>round</th>\n",
       "      <th>hp_dmg</th>\n",
       "      <th>arm_dmg</th>\n",
       "      <th>wp</th>\n",
       "      <th>att_id</th>\n",
       "      <th>vic_id</th>\n",
       "      <th>vic_pos_x</th>\n",
       "      <th>vic_pos_y</th>\n",
       "      <th>att_kd</th>\n",
       "      <th>att_wr</th>\n",
       "      <th>att_acc</th>\n",
       "      <th>att_playtime</th>\n",
       "    </tr>\n",
       "  </thead>\n",
       "  <tbody>\n",
       "    <tr>\n",
       "      <th>4279</th>\n",
       "      <td>003218553373129179487_1555113029.dem</td>\n",
       "      <td>de_mirage</td>\n",
       "      <td>1</td>\n",
       "      <td>100</td>\n",
       "      <td>0</td>\n",
       "      <td>USP</td>\n",
       "      <td>76561198355692407</td>\n",
       "      <td>76561198062948336</td>\n",
       "      <td>-1008.2190</td>\n",
       "      <td>347.5916</td>\n",
       "      <td>None</td>\n",
       "      <td>None</td>\n",
       "      <td>None</td>\n",
       "      <td>None</td>\n",
       "    </tr>\n",
       "    <tr>\n",
       "      <th>4276</th>\n",
       "      <td>003218553373129179487_1555113029.dem</td>\n",
       "      <td>de_mirage</td>\n",
       "      <td>1</td>\n",
       "      <td>13</td>\n",
       "      <td>6</td>\n",
       "      <td>USP</td>\n",
       "      <td>76561198355692407</td>\n",
       "      <td>76561198073535344</td>\n",
       "      <td>-2384.6450</td>\n",
       "      <td>652.6794</td>\n",
       "      <td>None</td>\n",
       "      <td>None</td>\n",
       "      <td>None</td>\n",
       "      <td>None</td>\n",
       "    </tr>\n",
       "    <tr>\n",
       "      <th>4277</th>\n",
       "      <td>003218553373129179487_1555113029.dem</td>\n",
       "      <td>de_mirage</td>\n",
       "      <td>1</td>\n",
       "      <td>23</td>\n",
       "      <td>3</td>\n",
       "      <td>P250</td>\n",
       "      <td>76561198324785976</td>\n",
       "      <td>76561198073535344</td>\n",
       "      <td>-2344.5570</td>\n",
       "      <td>407.4690</td>\n",
       "      <td>None</td>\n",
       "      <td>None</td>\n",
       "      <td>None</td>\n",
       "      <td>None</td>\n",
       "    </tr>\n",
       "    <tr>\n",
       "      <th>4280</th>\n",
       "      <td>003218553373129179487_1555113029.dem</td>\n",
       "      <td>de_mirage</td>\n",
       "      <td>1</td>\n",
       "      <td>64</td>\n",
       "      <td>0</td>\n",
       "      <td>P250</td>\n",
       "      <td>76561198324785976</td>\n",
       "      <td>76561198073535344</td>\n",
       "      <td>-2308.9390</td>\n",
       "      <td>378.9878</td>\n",
       "      <td>None</td>\n",
       "      <td>None</td>\n",
       "      <td>None</td>\n",
       "      <td>None</td>\n",
       "    </tr>\n",
       "    <tr>\n",
       "      <th>4272</th>\n",
       "      <td>003218553373129179487_1555113029.dem</td>\n",
       "      <td>de_mirage</td>\n",
       "      <td>1</td>\n",
       "      <td>15</td>\n",
       "      <td>8</td>\n",
       "      <td>Glock</td>\n",
       "      <td>76561198355692407</td>\n",
       "      <td>76561198115686368</td>\n",
       "      <td>-352.4009</td>\n",
       "      <td>392.1384</td>\n",
       "      <td>None</td>\n",
       "      <td>None</td>\n",
       "      <td>None</td>\n",
       "      <td>None</td>\n",
       "    </tr>\n",
       "  </tbody>\n",
       "</table>\n",
       "</div>"
      ],
      "text/plain": [
       "                                      file        map  round  hp_dmg  arm_dmg  \\\n",
       "4279  003218553373129179487_1555113029.dem  de_mirage      1     100        0   \n",
       "4276  003218553373129179487_1555113029.dem  de_mirage      1      13        6   \n",
       "4277  003218553373129179487_1555113029.dem  de_mirage      1      23        3   \n",
       "4280  003218553373129179487_1555113029.dem  de_mirage      1      64        0   \n",
       "4272  003218553373129179487_1555113029.dem  de_mirage      1      15        8   \n",
       "\n",
       "         wp             att_id             vic_id  vic_pos_x  vic_pos_y  \\\n",
       "4279    USP  76561198355692407  76561198062948336 -1008.2190   347.5916   \n",
       "4276    USP  76561198355692407  76561198073535344 -2384.6450   652.6794   \n",
       "4277   P250  76561198324785976  76561198073535344 -2344.5570   407.4690   \n",
       "4280   P250  76561198324785976  76561198073535344 -2308.9390   378.9878   \n",
       "4272  Glock  76561198355692407  76561198115686368  -352.4009   392.1384   \n",
       "\n",
       "     att_kd att_wr att_acc att_playtime  \n",
       "4279   None   None    None         None  \n",
       "4276   None   None    None         None  \n",
       "4277   None   None    None         None  \n",
       "4280   None   None    None         None  \n",
       "4272   None   None    None         None  "
      ]
     },
     "execution_count": 61,
     "metadata": {},
     "output_type": "execute_result"
    }
   ],
   "source": [
    "df_merged.head()"
   ]
  },
  {
   "cell_type": "code",
   "execution_count": 62,
   "id": "5986bb31",
   "metadata": {},
   "outputs": [
    {
     "data": {
      "text/plain": [
       "file                 0\n",
       "map                  0\n",
       "round                0\n",
       "hp_dmg               0\n",
       "arm_dmg              0\n",
       "wp               14801\n",
       "att_id               0\n",
       "vic_id               0\n",
       "vic_pos_x            0\n",
       "vic_pos_y            0\n",
       "att_kd          162432\n",
       "att_wr          162432\n",
       "att_acc         162432\n",
       "att_playtime    162432\n",
       "dtype: int64"
      ]
     },
     "execution_count": 62,
     "metadata": {},
     "output_type": "execute_result"
    }
   ],
   "source": [
    "# We can notice that there are some null values, these are for attackers whose profiles were private \n",
    "# and not accessible through scrapping\n",
    "df_merged.isnull().sum()"
   ]
  },
  {
   "cell_type": "markdown",
   "id": "e5752a83",
   "metadata": {},
   "source": [
    "### Is there a relationship between a player's k/d and their winrate?"
   ]
  },
  {
   "cell_type": "code",
   "execution_count": 63,
   "id": "58cc19ce",
   "metadata": {
    "scrolled": true
   },
   "outputs": [
    {
     "data": {
      "text/plain": [
       "0.12111138736651365"
      ]
     },
     "execution_count": 63,
     "metadata": {},
     "output_type": "execute_result"
    }
   ],
   "source": [
    "# Checking whether there's a correlation between the wr and kd\n",
    "kd = df_scraped[\"att_kd\"]\n",
    "wr = df_scraped[\"att_wr\"]\n",
    "correlation = kd.corr(wr)\n",
    "correlation"
   ]
  },
  {
   "cell_type": "code",
   "execution_count": 64,
   "id": "aaa471cb",
   "metadata": {},
   "outputs": [
    {
     "data": {
      "image/png": "[encoded data removed]",
      "text/plain": [
       "<Figure size 432x288 with 1 Axes>"
      ]
     },
     "metadata": {
      "needs_background": "light"
     },
     "output_type": "display_data"
    }
   ],
   "source": [
    "# While the above shows that there is no correlation, a scatter plot is used to further verify it\n",
    "plt.scatter(kd,wr, alpha=0.6);\n",
    "plt.xlabel(\"Kill/Death ratio\")\n",
    "plt.ylabel(\"Winrate\");"
   ]
  },
  {
   "cell_type": "markdown",
   "id": "970d102a",
   "metadata": {},
   "source": [
    "It can be seen that there is indeed no correlation between a player's winrate and their kd"
   ]
  },
  {
   "cell_type": "markdown",
   "id": "f3fe860e",
   "metadata": {},
   "source": [
    "### Is there a relationship between a player's playtime and their accuracy?"
   ]
  },
  {
   "cell_type": "code",
   "execution_count": 65,
   "id": "56934cc9",
   "metadata": {},
   "outputs": [
    {
     "data": {
      "text/plain": [
       "0.012021238326900505"
      ]
     },
     "execution_count": 65,
     "metadata": {},
     "output_type": "execute_result"
    }
   ],
   "source": [
    "# Checking whether there's a correlation between the playtime and acc\n",
    "acc = df_scraped[\"att_acc\"]\n",
    "playtime = df_scraped[\"att_playtime\"]\n",
    "correlation = acc.corr(playtime)\n",
    "correlation"
   ]
  },
  {
   "cell_type": "code",
   "execution_count": 66,
   "id": "2e130f13",
   "metadata": {},
   "outputs": [
    {
     "data": {
      "image/png": "[encoded data removed]",
      "text/plain": [
       "<Figure size 432x288 with 1 Axes>"
      ]
     },
     "metadata": {
      "needs_background": "light"
     },
     "output_type": "display_data"
    }
   ],
   "source": [
    "# While the above shows that there is no correlation, a scatter plot is used to further verify it\n",
    "plt.scatter(acc,playtime, alpha=0.6);\n",
    "plt.xlabel(\"Accuracy\")\n",
    "plt.ylabel(\"playtime (in hrs)\");"
   ]
  },
  {
   "cell_type": "markdown",
   "id": "bea26358",
   "metadata": {},
   "source": [
    "It can be seen that there is indeed no correlation between a player's playtime and their accuracy"
   ]
  },
  {
   "cell_type": "markdown",
   "id": "5afef320",
   "metadata": {},
   "source": [
    "## Hypothesis testing"
   ]
  },
  {
   "cell_type": "markdown",
   "id": "bb704c9e",
   "metadata": {},
   "source": [
    "**The research question** = Is there any evidence of a relationship between the playtime and the accuracy of a player, at 5% significant level?"
   ]
  },
  {
   "cell_type": "markdown",
   "id": "0000c5d7",
   "metadata": {},
   "source": [
    "**H0** (Null Hypothesis) = There is NO relationship between the playtime and the accuracy of a player, at 5% significant level<br>,  ( the two variables are independent)\n",
    "\n",
    "**H1** (Alternate Hypothesis) = There is a relationship between the playtime and the accuracy of a player, at 5% significant level.   ( the two variables are dependent)\n",
    "\n",
    "In this case, the playtime is the independent variable while the accuracy is the dependent one."
   ]
  },
  {
   "cell_type": "markdown",
   "id": "07260e82",
   "metadata": {},
   "source": [
    "### Spearman correlation test\n",
    "\n",
    "While we have studied Chi Square test and t-test for finding correlation and/or difference in means between two variables, neither test works with ratio variables (Chi square mostly works on categorical data for example).\n",
    "\n",
    "As a result, it was decided to use Spearman's correlation to test our hypothesis. It was favored over Pearson's since we are not sure of the lineraity of the relation and it may have a non-Gaussian distribution."
   ]
  },
  {
   "cell_type": "code",
   "execution_count": 67,
   "id": "b9bf10fb",
   "metadata": {},
   "outputs": [
    {
     "name": "stdout",
     "output_type": "stream",
     "text": [
      "Spearmans correlation coefficient: -0.022\n",
      "Variables are uncorrelated (fail to reject H0) p=0.417\n"
     ]
    }
   ],
   "source": [
    "# calculate spearman's correlation\n",
    "coef, p = spearmanr(playtime, acc)\n",
    "print('Spearmans correlation coefficient: %.3f' % coef)\n",
    "# interpret the significance\n",
    "alpha = 0.05\n",
    "if p > alpha:\n",
    "\tprint('Variables are uncorrelated (fail to reject H0) p=%.3f' % p)\n",
    "else:\n",
    "\tprint('Variables are correlated (reject H0) p=%.3f' % p)"
   ]
  }
 ],
 "metadata": {
  "kernelspec": {
   "display_name": "Python 3 (ipykernel)",
   "language": "python",
   "name": "python3"
  },
  "language_info": {
   "codemirror_mode": {
    "name": "ipython",
    "version": 3
   },
   "file_extension": ".py",
   "mimetype": "text/x-python",
   "name": "python",
   "nbconvert_exporter": "python",
   "pygments_lexer": "ipython3",
   "version": "3.9.7"
  }
 },
 "nbformat": 4,
 "nbformat_minor": 5
}
